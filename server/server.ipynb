{
 "cells": [
  {
   "cell_type": "code",
   "execution_count": 11,
   "metadata": {},
   "outputs": [
    {
     "data": {
      "text/plain": [
       "'Zero'"
      ]
     },
     "execution_count": 11,
     "metadata": {},
     "output_type": "execute_result"
    }
   ],
   "source": [
    "# import flask modules\n",
    "import numpy as np\n",
    "from flask import Flask, request, jsonify\n",
    "\n",
    "# import numpy and tensorflow modules\n",
    "import numpy as np\n",
    "from tensorflow.keras.preprocessing import image\n",
    "from tensorflow.keras.models import load_model\n",
    "\n",
    "# load the classifier model's h5 file\n",
    "classifier = load_model(\"../notebooks/model.h5\")\n",
    "\n",
    "# create the flask app\n",
    "app = Flask(__name__)\n",
    "\n",
    "# routes HTTP request for '/predict' to predict_density() function\n",
    "@app.route('/predict_density', methods= ['GET', 'POST'])\n",
    "def predict_density():\n",
    "    \n",
    "    # verifies if the request method is GET\n",
    "    if (request.method == 'GET'):        \n",
    "        # function call to predict the level of people within the area\n",
    "        prediction = predict(\"capture.jpg\", 224, 224)\n",
    "        \n",
    "        # make 'prediction' in JSON format\n",
    "        prediction = jsonify(prediction)\n",
    "        \n",
    "        # returns JSON to the client\n",
    "        return prediction\n",
    "    else:\n",
    "        return \"Request method not valid\"\n",
    "\n",
    "def predict(image_file, img_width, img_height):\n",
    "    # reformats image for Numpy Array conversion\n",
    "    test_image = image.load_img(str(image_file), target_size= (img_width, img_height))\n",
    "    \n",
    "    # converts the image to an array\n",
    "    image_matrix = image.img_to_array(test_image)\n",
    "    \n",
    "    # expands the shape of the array\n",
    "    image_matrix = np.expand_dims(image_matrix, axis= 0)\n",
    "    \n",
    "    # classifies the level of people within the image\n",
    "    result = classifier.predict(image_matrix)\n",
    "    \n",
    "    # returns best category classification\n",
    "    categories = {0: \"High\", 1: \"Low\", 2: \"Medium\", 3: \"Zero\"}\n",
    "    return get_predicted_population_density(result, categories)\n",
    "\n",
    "def get_predicted_population_density(predictions, categories):\n",
    "    current_category = 0\n",
    "    best_category = 0\n",
    "\n",
    "    # receive the category with the highest predicted possibility\n",
    "    while(current_category < len(predictions[0])):\n",
    "        if(predictions[0][current_category] > predictions[0][best_category]):\n",
    "            # update the best category\n",
    "            best_category = current_category\n",
    "        current_category += 1\n",
    "        \n",
    "    return categories[best_category]\n",
    "\n",
    "app.run(host= \"127.0.0.1\", port= \"5000\")"
   ]
  },
  {
   "cell_type": "code",
   "execution_count": null,
   "metadata": {},
   "outputs": [],
   "source": []
  }
 ],
 "metadata": {
  "kernelspec": {
   "display_name": "Python 3",
   "language": "python",
   "name": "python3"
  },
  "language_info": {
   "codemirror_mode": {
    "name": "ipython",
    "version": 3
   },
   "file_extension": ".py",
   "mimetype": "text/x-python",
   "name": "python",
   "nbconvert_exporter": "python",
   "pygments_lexer": "ipython3",
   "version": "3.7.3"
  }
 },
 "nbformat": 4,
 "nbformat_minor": 2
}
