{
 "cells": [
  {
   "cell_type": "code",
   "execution_count": 1,
   "metadata": {},
   "outputs": [
    {
     "name": "stderr",
     "output_type": "stream",
     "text": [
      "WARNING: Logging before flag parsing goes to stderr.\n",
      "W1102 22:26:00.539215 139643429975872 deprecation.py:506] From /home/pravat/anaconda3/lib/python3.7/site-packages/tensorflow/python/ops/init_ops.py:97: calling GlorotUniform.__init__ (from tensorflow.python.ops.init_ops) with dtype is deprecated and will be removed in a future version.\n",
      "Instructions for updating:\n",
      "Call initializer instance with the dtype argument instead of passing it to the constructor\n",
      "W1102 22:26:00.540187 139643429975872 deprecation.py:506] From /home/pravat/anaconda3/lib/python3.7/site-packages/tensorflow/python/ops/init_ops.py:1251: calling VarianceScaling.__init__ (from tensorflow.python.ops.init_ops) with dtype is deprecated and will be removed in a future version.\n",
      "Instructions for updating:\n",
      "Call initializer instance with the dtype argument instead of passing it to the constructor\n",
      "W1102 22:26:00.540790 139643429975872 deprecation.py:506] From /home/pravat/anaconda3/lib/python3.7/site-packages/tensorflow/python/ops/init_ops.py:97: calling Zeros.__init__ (from tensorflow.python.ops.init_ops) with dtype is deprecated and will be removed in a future version.\n",
      "Instructions for updating:\n",
      "Call initializer instance with the dtype argument instead of passing it to the constructor\n"
     ]
    },
    {
     "name": "stdout",
     "output_type": "stream",
     "text": [
      " * Serving Flask app \"__main__\" (lazy loading)\n",
      " * Environment: production\n",
      "   WARNING: This is a development server. Do not use it in a production deployment.\n",
      "   Use a production WSGI server instead.\n",
      " * Debug mode: off\n"
     ]
    },
    {
     "name": "stderr",
     "output_type": "stream",
     "text": [
      "I1102 22:26:01.348944 139643429975872 _internal.py:122]  * Running on http://127.0.0.1:5000/ (Press CTRL+C to quit)\n"
     ]
    }
   ],
   "source": [
    "# import flask modules\n",
    "import numpy as np\n",
    "from flask import Flask, request, jsonify\n",
    "\n",
    "# import numpy and tensorflow modules\n",
    "import numpy as np\n",
    "from tensorflow.keras.preprocessing import image\n",
    "from tensorflow.keras.models import load_model\n",
    "\n",
    "# load the classifier model's h5 file\n",
    "classifier = load_model(\"../notebooks/model.h5\")\n",
    "\n",
    "# create the flask app\n",
    "app = Flask(__name__)\n",
    "\n",
    "# routes HTTP request for '/predict' to predict_density() function\n",
    "@app.route('/predict_density', methods= ['GET', 'POST'])\n",
    "def predict_density():\n",
    "    \n",
    "    # verifies if the request method is GET\n",
    "    if (request.method == 'GET'):\n",
    "         # save the uploaded image into this directory\n",
    "        file = request.files[\"file\"]\n",
    "        file.save(file.filename)\n",
    "        \n",
    "        # function call to predict the level of people within the area\n",
    "        prediction = predict(file.filename, 224, 224)\n",
    "        \n",
    "        # make 'prediction' in JSON format\n",
    "        prediction = jsonify(prediction)\n",
    "        \n",
    "        # returns JSON to the client\n",
    "        return prediction\n",
    "    else:\n",
    "        return \"Request method not valid\"\n",
    "\n",
    "def predict(image_file, img_width, img_height):\n",
    "    # reformats image for Numpy Array conversion\n",
    "    test_image = image.load_img(str(image_file), target_size= (img_width, img_height))\n",
    "    \n",
    "    # converts the image to an array\n",
    "    image_matrix = image.img_to_array(test_image)\n",
    "    \n",
    "    # expands the shape of the array\n",
    "    image_matrix = np.expand_dims(image_matrix, axis= 0)\n",
    "    \n",
    "    # classifies the level of people within the image\n",
    "    result = classifier.predict(image_matrix)\n",
    "    \n",
    "    # returns best category classification\n",
    "    categories = {0: \"High\", 1: \"Low\", 2: \"Medium\", 3: \"Zero\"}\n",
    "    return get_predicted_population_density(result, categories)\n",
    "\n",
    "def get_predicted_population_density(predictions, categories):\n",
    "    current_category = 0\n",
    "    best_category = 0\n",
    "\n",
    "    # receive the category with the highest predicted possibility\n",
    "    while(current_category < len(predictions[0])):\n",
    "        if(predictions[0][current_category] > predictions[0][best_category]):\n",
    "            # update the best category\n",
    "            best_category = current_category\n",
    "        current_category += 1\n",
    "        \n",
    "    return categories[best_category]\n",
    "\n",
    "app.run(host= \"127.0.0.1\", port= \"5000\")"
   ]
  }
 ],
 "metadata": {
  "kernelspec": {
   "display_name": "Python 3",
   "language": "python",
   "name": "python3"
  },
  "language_info": {
   "codemirror_mode": {
    "name": "ipython",
    "version": 3
   },
   "file_extension": ".py",
   "mimetype": "text/x-python",
   "name": "python",
   "nbconvert_exporter": "python",
   "pygments_lexer": "ipython3",
   "version": "3.7.3"
  }
 },
 "nbformat": 4,
 "nbformat_minor": 2
}
