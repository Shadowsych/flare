{
 "cells": [
  {
   "cell_type": "markdown",
   "metadata": {},
   "source": [
    "# Abstract\n",
    "This is a convolutional neural network that measures population density from birds-eye view images. It takes-in an input image and then detects the population density into 4 outputs:\n",
    "- 0 people = Zero Density\n",
    "- 1 to 5 people = Low Density\n",
    "- 6 to 30 = Medium Density\n",
    "- 31 to infinity = High Density"
   ]
  },
  {
   "cell_type": "markdown",
   "metadata": {},
   "source": [
    "# Defining Constants\n",
    "Let's define some constants to use in our neural network for later."
   ]
  },
  {
   "cell_type": "code",
   "execution_count": 1,
   "metadata": {},
   "outputs": [],
   "source": [
    "# import numpy\n",
    "import numpy as np"
   ]
  },
  {
   "cell_type": "code",
   "execution_count": 2,
   "metadata": {},
   "outputs": [],
   "source": [
    "# directory for the training and testing images\n",
    "training_dir = \"images/training\"\n",
    "testing_dir = \"images/testing\""
   ]
  },
  {
   "cell_type": "code",
   "execution_count": 3,
   "metadata": {},
   "outputs": [],
   "source": [
    "# number of training and testing images\n",
    "num_training_samples = 100\n",
    "num_testing_samples = 12\n",
    "\n",
    "# number of images to process before the weights are updated\n",
    "training_batch_size = 10\n",
    "testing_batch_size = 3\n",
    "\n",
    "# image's square dimension for the neural network (width x height)\n",
    "image_size = 224\n",
    "\n",
    "# steps is the number of images per epoch\n",
    "training_steps = np.ceil(num_training_samples / training_batch_size)\n",
    "testing_steps = np.ceil(num_testing_samples / testing_batch_size)"
   ]
  },
  {
   "cell_type": "markdown",
   "metadata": {},
   "source": [
    "# Pre-Processing Image Data\n",
    "Let's pre-process image data using Image Augmentation from Keras's ImageDataGenerator class.\n",
    "\n",
    "Image augmentation allows us to create many batches of the images, which create many more diverse set of the images. Some augmentations could be rotating, stretching, zooming, etc.\n",
    "\n",
    "This helps prevent overfitting because augmentation better diversifies the data set."
   ]
  },
  {
   "cell_type": "code",
   "execution_count": 4,
   "metadata": {},
   "outputs": [],
   "source": [
    "# import keras\n",
    "import tensorflow.keras as keras\n",
    "\n",
    "# import the keras image data augmentor\n",
    "from tensorflow.keras.preprocessing.image import ImageDataGenerator"
   ]
  },
  {
   "cell_type": "code",
   "execution_count": 5,
   "metadata": {},
   "outputs": [
    {
     "name": "stdout",
     "output_type": "stream",
     "text": [
      "Found 100 images belonging to 4 classes.\n"
     ]
    }
   ],
   "source": [
    "# create a data generator for the training set using the built-in mobilenet functions\n",
    "training_batches = ImageDataGenerator(\n",
    "    preprocessing_function = keras.applications.mobilenet.preprocess_input\n",
    ").flow_from_directory(\n",
    "    training_dir,\n",
    "    target_size = (image_size, image_size),\n",
    "    batch_size = training_batch_size,\n",
    "    color_mode = \"grayscale\"\n",
    ")"
   ]
  },
  {
   "cell_type": "markdown",
   "metadata": {},
   "source": [
    "# Convolutional Neural Network\n",
    "Let's create a convolutional neural network to classify the image based on the categories."
   ]
  },
  {
   "cell_type": "code",
   "execution_count": 6,
   "metadata": {},
   "outputs": [],
   "source": [
    "# import keras packages to make the CNN to classify 2D images (width and height)\n",
    "from tensorflow.keras.models import Sequential\n",
    "from tensorflow.keras.layers import Convolution2D\n",
    "from tensorflow.keras.layers import MaxPooling2D\n",
    "from tensorflow.keras.layers import Flatten\n",
    "from tensorflow.keras.layers import Dense\n",
    "from tensorflow.keras.layers import Dropout"
   ]
  },
  {
   "cell_type": "code",
   "execution_count": 7,
   "metadata": {},
   "outputs": [],
   "source": [
    "# initialize a sequential neural network model\n",
    "model = Sequential()"
   ]
  },
  {
   "cell_type": "code",
   "execution_count": 8,
   "metadata": {},
   "outputs": [
    {
     "name": "stderr",
     "output_type": "stream",
     "text": [
      "WARNING: Logging before flag parsing goes to stderr.\n",
      "W1102 15:47:08.468624 139685467260736 deprecation.py:506] From /home/pravat/anaconda3/lib/python3.7/site-packages/tensorflow/python/ops/init_ops.py:1251: calling VarianceScaling.__init__ (from tensorflow.python.ops.init_ops) with dtype is deprecated and will be removed in a future version.\n",
      "Instructions for updating:\n",
      "Call initializer instance with the dtype argument instead of passing it to the constructor\n"
     ]
    }
   ],
   "source": [
    "# add the convolutional layer\n",
    "model.add(\n",
    "    Convolution2D(\n",
    "        filters = 3, # detect 3 features from the images because the humans are small blobs\n",
    "        kernel_size = (3, 3), # each feature detector matrix is 3x3\n",
    "        input_shape = (image_size, image_size, 1), # the images are black and white (1D)\n",
    "        activation = \"relu\"\n",
    "    )\n",
    ")\n",
    "\n",
    "# add the max pooling layer as a 2x2 matrix\n",
    "model.add(MaxPooling2D(pool_size = (2, 2)))\n",
    "\n",
    "# dropout some of the max pooled layer, then add the flattening layer\n",
    "model.add(Dropout(rate = 0.20))\n",
    "model.add(Flatten())"
   ]
  },
  {
   "cell_type": "code",
   "execution_count": 9,
   "metadata": {},
   "outputs": [],
   "source": [
    "# add the hidden layers\n",
    "model.add(Dense(units = 100, activation = \"softmax\"))\n",
    "model.add(Dropout(rate = 0.10))\n",
    "\n",
    "# add the output layer\n",
    "model.add(Dense(units = 4, activation=\"softmax\"))"
   ]
  },
  {
   "cell_type": "markdown",
   "metadata": {},
   "source": [
    "# Metrics of the Model\n",
    "Let's create metrics (such as accuracy) to judge the performance of the model."
   ]
  },
  {
   "cell_type": "code",
   "execution_count": 10,
   "metadata": {},
   "outputs": [],
   "source": [
    "# import the callbacks for the models to use to fit to the training set\n",
    "from tensorflow.keras.callbacks import ReduceLROnPlateau, ModelCheckpoint"
   ]
  },
  {
   "cell_type": "code",
   "execution_count": 11,
   "metadata": {},
   "outputs": [],
   "source": [
    "# compile the model using the adam (stochastic aGradient Descent) optimizer\n",
    "model.compile(\n",
    "    optimizer=\"adam\",\n",
    "    loss='categorical_crossentropy',\n",
    "    metrics=[\"accuracy\", \"categorical_accuracy\"]\n",
    ")"
   ]
  },
  {
   "cell_type": "markdown",
   "metadata": {},
   "source": [
    "# Checkpoints\n",
    "Let's define checkpoints to save the neural network whenever we reached the most accurate version of the model."
   ]
  },
  {
   "cell_type": "code",
   "execution_count": 12,
   "metadata": {},
   "outputs": [],
   "source": [
    "# declare a checkpoint to save the best version of the model\n",
    "filepath = \"model.h5\"\n",
    "checkpoint = ModelCheckpoint(filepath, monitor='val_top_3_accuracy', verbose=1,\n",
    "                             save_best_only=True, mode='max')\n",
    "\n",
    "# reduce the learning rate as the learning stagnates\n",
    "reduce_lr = ReduceLROnPlateau(monitor='val_top_3_accuracy', factor=0.5, patience=2,\n",
    "                              verbose=1, mode='max', min_lr=0.00001)\n",
    "\n",
    "callbacks_list = [checkpoint, reduce_lr]"
   ]
  },
  {
   "cell_type": "markdown",
   "metadata": {},
   "source": [
    "# Fitting The Model\n",
    "Let's fit the model to the training set."
   ]
  },
  {
   "cell_type": "code",
   "execution_count": 13,
   "metadata": {},
   "outputs": [
    {
     "name": "stdout",
     "output_type": "stream",
     "text": [
      "Epoch 1/100\n",
      " 9/10 [==========================>...] - ETA: 0s - loss: 1.3932 - acc: 0.2889 - categorical_accuracy: 0.2889"
     ]
    },
    {
     "name": "stderr",
     "output_type": "stream",
     "text": [
      "W1102 15:47:11.647289 139685467260736 callbacks.py:989] Can save best model only with val_top_3_accuracy available, skipping.\n",
      "W1102 15:47:11.657473 139685467260736 callbacks.py:1833] Reduce LR on plateau conditioned on metric `val_top_3_accuracy` which is not available. Available metrics are: loss,acc,categorical_accuracy,val_loss,val_acc,val_categorical_accuracy,lr\n"
     ]
    },
    {
     "name": "stdout",
     "output_type": "stream",
     "text": [
      "10/10 [==============================] - 2s 161ms/step - loss: 1.3928 - acc: 0.2800 - categorical_accuracy: 0.2800 - val_loss: 1.3692 - val_acc: 0.3400 - val_categorical_accuracy: 0.3400\n",
      "Epoch 2/100\n",
      " 9/10 [==========================>...] - ETA: 0s - loss: 1.3711 - acc: 0.3111 - categorical_accuracy: 0.3111"
     ]
    },
    {
     "name": "stderr",
     "output_type": "stream",
     "text": [
      "W1102 15:47:12.953018 139685467260736 callbacks.py:989] Can save best model only with val_top_3_accuracy available, skipping.\n",
      "W1102 15:47:12.956465 139685467260736 callbacks.py:1833] Reduce LR on plateau conditioned on metric `val_top_3_accuracy` which is not available. Available metrics are: loss,acc,categorical_accuracy,val_loss,val_acc,val_categorical_accuracy,lr\n"
     ]
    },
    {
     "name": "stdout",
     "output_type": "stream",
     "text": [
      "10/10 [==============================] - 1s 129ms/step - loss: 1.3698 - acc: 0.3100 - categorical_accuracy: 0.3100 - val_loss: 1.3574 - val_acc: 0.3900 - val_categorical_accuracy: 0.3900\n",
      "Epoch 3/100\n",
      " 9/10 [==========================>...] - ETA: 0s - loss: 1.3658 - acc: 0.3333 - categorical_accuracy: 0.3333"
     ]
    },
    {
     "name": "stderr",
     "output_type": "stream",
     "text": [
      "W1102 15:47:14.225805 139685467260736 callbacks.py:989] Can save best model only with val_top_3_accuracy available, skipping.\n",
      "W1102 15:47:14.227105 139685467260736 callbacks.py:1833] Reduce LR on plateau conditioned on metric `val_top_3_accuracy` which is not available. Available metrics are: loss,acc,categorical_accuracy,val_loss,val_acc,val_categorical_accuracy,lr\n"
     ]
    },
    {
     "name": "stdout",
     "output_type": "stream",
     "text": [
      "10/10 [==============================] - 1s 126ms/step - loss: 1.3658 - acc: 0.3300 - categorical_accuracy: 0.3300 - val_loss: 1.3706 - val_acc: 0.3100 - val_categorical_accuracy: 0.3100\n",
      "Epoch 4/100\n",
      " 9/10 [==========================>...] - ETA: 0s - loss: 1.3611 - acc: 0.3444 - categorical_accuracy: 0.3444"
     ]
    },
    {
     "name": "stderr",
     "output_type": "stream",
     "text": [
      "W1102 15:47:15.440129 139685467260736 callbacks.py:989] Can save best model only with val_top_3_accuracy available, skipping.\n",
      "W1102 15:47:15.441578 139685467260736 callbacks.py:1833] Reduce LR on plateau conditioned on metric `val_top_3_accuracy` which is not available. Available metrics are: loss,acc,categorical_accuracy,val_loss,val_acc,val_categorical_accuracy,lr\n"
     ]
    },
    {
     "name": "stdout",
     "output_type": "stream",
     "text": [
      "10/10 [==============================] - 1s 121ms/step - loss: 1.3590 - acc: 0.3400 - categorical_accuracy: 0.3400 - val_loss: 1.3465 - val_acc: 0.4100 - val_categorical_accuracy: 0.4100\n",
      "Epoch 5/100\n",
      " 9/10 [==========================>...] - ETA: 0s - loss: 1.3574 - acc: 0.3889 - categorical_accuracy: 0.3889"
     ]
    },
    {
     "name": "stderr",
     "output_type": "stream",
     "text": [
      "W1102 15:47:16.652072 139685467260736 callbacks.py:989] Can save best model only with val_top_3_accuracy available, skipping.\n",
      "W1102 15:47:16.654010 139685467260736 callbacks.py:1833] Reduce LR on plateau conditioned on metric `val_top_3_accuracy` which is not available. Available metrics are: loss,acc,categorical_accuracy,val_loss,val_acc,val_categorical_accuracy,lr\n"
     ]
    },
    {
     "name": "stdout",
     "output_type": "stream",
     "text": [
      "10/10 [==============================] - 1s 121ms/step - loss: 1.3578 - acc: 0.3800 - categorical_accuracy: 0.3800 - val_loss: 1.3522 - val_acc: 0.4200 - val_categorical_accuracy: 0.4200\n",
      "Epoch 6/100\n",
      " 9/10 [==========================>...] - ETA: 0s - loss: 1.3602 - acc: 0.3556 - categorical_accuracy: 0.3556"
     ]
    },
    {
     "name": "stderr",
     "output_type": "stream",
     "text": [
      "W1102 15:47:17.863899 139685467260736 callbacks.py:989] Can save best model only with val_top_3_accuracy available, skipping.\n",
      "W1102 15:47:17.865528 139685467260736 callbacks.py:1833] Reduce LR on plateau conditioned on metric `val_top_3_accuracy` which is not available. Available metrics are: loss,acc,categorical_accuracy,val_loss,val_acc,val_categorical_accuracy,lr\n"
     ]
    },
    {
     "name": "stdout",
     "output_type": "stream",
     "text": [
      "10/10 [==============================] - 1s 121ms/step - loss: 1.3683 - acc: 0.3300 - categorical_accuracy: 0.3300 - val_loss: 1.3616 - val_acc: 0.4000 - val_categorical_accuracy: 0.4000\n",
      "Epoch 7/100\n",
      " 9/10 [==========================>...] - ETA: 0s - loss: 1.3587 - acc: 0.3778 - categorical_accuracy: 0.3778"
     ]
    },
    {
     "name": "stderr",
     "output_type": "stream",
     "text": [
      "W1102 15:47:19.046224 139685467260736 callbacks.py:989] Can save best model only with val_top_3_accuracy available, skipping.\n",
      "W1102 15:47:19.047434 139685467260736 callbacks.py:1833] Reduce LR on plateau conditioned on metric `val_top_3_accuracy` which is not available. Available metrics are: loss,acc,categorical_accuracy,val_loss,val_acc,val_categorical_accuracy,lr\n"
     ]
    },
    {
     "name": "stdout",
     "output_type": "stream",
     "text": [
      "10/10 [==============================] - 1s 118ms/step - loss: 1.3569 - acc: 0.3700 - categorical_accuracy: 0.3700 - val_loss: 1.3539 - val_acc: 0.3900 - val_categorical_accuracy: 0.3900\n",
      "Epoch 8/100\n",
      " 9/10 [==========================>...] - ETA: 0s - loss: 1.3643 - acc: 0.3222 - categorical_accuracy: 0.3222"
     ]
    },
    {
     "name": "stderr",
     "output_type": "stream",
     "text": [
      "W1102 15:47:20.264955 139685467260736 callbacks.py:989] Can save best model only with val_top_3_accuracy available, skipping.\n",
      "W1102 15:47:20.268075 139685467260736 callbacks.py:1833] Reduce LR on plateau conditioned on metric `val_top_3_accuracy` which is not available. Available metrics are: loss,acc,categorical_accuracy,val_loss,val_acc,val_categorical_accuracy,lr\n"
     ]
    },
    {
     "name": "stdout",
     "output_type": "stream",
     "text": [
      "10/10 [==============================] - 1s 122ms/step - loss: 1.3605 - acc: 0.3400 - categorical_accuracy: 0.3400 - val_loss: 1.3509 - val_acc: 0.4000 - val_categorical_accuracy: 0.4000\n",
      "Epoch 9/100\n",
      " 9/10 [==========================>...] - ETA: 0s - loss: 1.3609 - acc: 0.3556 - categorical_accuracy: 0.3556"
     ]
    },
    {
     "name": "stderr",
     "output_type": "stream",
     "text": [
      "W1102 15:47:21.537992 139685467260736 callbacks.py:989] Can save best model only with val_top_3_accuracy available, skipping.\n",
      "W1102 15:47:21.539833 139685467260736 callbacks.py:1833] Reduce LR on plateau conditioned on metric `val_top_3_accuracy` which is not available. Available metrics are: loss,acc,categorical_accuracy,val_loss,val_acc,val_categorical_accuracy,lr\n"
     ]
    },
    {
     "name": "stdout",
     "output_type": "stream",
     "text": [
      "10/10 [==============================] - 1s 126ms/step - loss: 1.3620 - acc: 0.3400 - categorical_accuracy: 0.3400 - val_loss: 1.3510 - val_acc: 0.3800 - val_categorical_accuracy: 0.3800\n",
      "Epoch 10/100\n",
      " 9/10 [==========================>...] - ETA: 0s - loss: 1.3555 - acc: 0.3222 - categorical_accuracy: 0.3222"
     ]
    },
    {
     "name": "stderr",
     "output_type": "stream",
     "text": [
      "W1102 15:47:22.612206 139685467260736 callbacks.py:989] Can save best model only with val_top_3_accuracy available, skipping.\n",
      "W1102 15:47:22.613625 139685467260736 callbacks.py:1833] Reduce LR on plateau conditioned on metric `val_top_3_accuracy` which is not available. Available metrics are: loss,acc,categorical_accuracy,val_loss,val_acc,val_categorical_accuracy,lr\n"
     ]
    },
    {
     "name": "stdout",
     "output_type": "stream",
     "text": [
      "10/10 [==============================] - 1s 107ms/step - loss: 1.3529 - acc: 0.3300 - categorical_accuracy: 0.3300 - val_loss: 1.3512 - val_acc: 0.3800 - val_categorical_accuracy: 0.3800\n",
      "Epoch 11/100\n",
      " 9/10 [==========================>...] - ETA: 0s - loss: 1.3488 - acc: 0.3778 - categorical_accuracy: 0.3778"
     ]
    },
    {
     "name": "stderr",
     "output_type": "stream",
     "text": [
      "W1102 15:47:23.780429 139685467260736 callbacks.py:989] Can save best model only with val_top_3_accuracy available, skipping.\n",
      "W1102 15:47:23.781729 139685467260736 callbacks.py:1833] Reduce LR on plateau conditioned on metric `val_top_3_accuracy` which is not available. Available metrics are: loss,acc,categorical_accuracy,val_loss,val_acc,val_categorical_accuracy,lr\n"
     ]
    },
    {
     "name": "stdout",
     "output_type": "stream",
     "text": [
      "10/10 [==============================] - 1s 117ms/step - loss: 1.3487 - acc: 0.3800 - categorical_accuracy: 0.3800 - val_loss: 1.3512 - val_acc: 0.3800 - val_categorical_accuracy: 0.3800\n",
      "Epoch 12/100\n",
      " 9/10 [==========================>...] - ETA: 0s - loss: 1.3368 - acc: 0.4333 - categorical_accuracy: 0.4333"
     ]
    },
    {
     "name": "stderr",
     "output_type": "stream",
     "text": [
      "W1102 15:47:24.831333 139685467260736 callbacks.py:989] Can save best model only with val_top_3_accuracy available, skipping.\n",
      "W1102 15:47:24.832518 139685467260736 callbacks.py:1833] Reduce LR on plateau conditioned on metric `val_top_3_accuracy` which is not available. Available metrics are: loss,acc,categorical_accuracy,val_loss,val_acc,val_categorical_accuracy,lr\n"
     ]
    },
    {
     "name": "stdout",
     "output_type": "stream",
     "text": [
      "10/10 [==============================] - 1s 105ms/step - loss: 1.3356 - acc: 0.4400 - categorical_accuracy: 0.4400 - val_loss: 1.3436 - val_acc: 0.3900 - val_categorical_accuracy: 0.3900\n",
      "Epoch 13/100\n",
      " 9/10 [==========================>...] - ETA: 0s - loss: 1.3296 - acc: 0.3778 - categorical_accuracy: 0.3778"
     ]
    },
    {
     "name": "stderr",
     "output_type": "stream",
     "text": [
      "W1102 15:47:25.856148 139685467260736 callbacks.py:989] Can save best model only with val_top_3_accuracy available, skipping.\n",
      "W1102 15:47:25.857351 139685467260736 callbacks.py:1833] Reduce LR on plateau conditioned on metric `val_top_3_accuracy` which is not available. Available metrics are: loss,acc,categorical_accuracy,val_loss,val_acc,val_categorical_accuracy,lr\n"
     ]
    },
    {
     "name": "stdout",
     "output_type": "stream",
     "text": [
      "10/10 [==============================] - 1s 102ms/step - loss: 1.3356 - acc: 0.3600 - categorical_accuracy: 0.3600 - val_loss: 1.3364 - val_acc: 0.4200 - val_categorical_accuracy: 0.4200\n",
      "Epoch 14/100\n",
      " 9/10 [==========================>...] - ETA: 0s - loss: 1.3327 - acc: 0.4333 - categorical_accuracy: 0.4333"
     ]
    },
    {
     "name": "stderr",
     "output_type": "stream",
     "text": [
      "W1102 15:47:26.890391 139685467260736 callbacks.py:989] Can save best model only with val_top_3_accuracy available, skipping.\n",
      "W1102 15:47:26.891632 139685467260736 callbacks.py:1833] Reduce LR on plateau conditioned on metric `val_top_3_accuracy` which is not available. Available metrics are: loss,acc,categorical_accuracy,val_loss,val_acc,val_categorical_accuracy,lr\n"
     ]
    },
    {
     "name": "stdout",
     "output_type": "stream",
     "text": [
      "10/10 [==============================] - 1s 103ms/step - loss: 1.3367 - acc: 0.4200 - categorical_accuracy: 0.4200 - val_loss: 1.3361 - val_acc: 0.4100 - val_categorical_accuracy: 0.4100\n",
      "Epoch 15/100\n",
      " 9/10 [==========================>...] - ETA: 0s - loss: 1.3262 - acc: 0.4222 - categorical_accuracy: 0.4222"
     ]
    },
    {
     "name": "stderr",
     "output_type": "stream",
     "text": [
      "W1102 15:47:28.037586 139685467260736 callbacks.py:989] Can save best model only with val_top_3_accuracy available, skipping.\n",
      "W1102 15:47:28.038845 139685467260736 callbacks.py:1833] Reduce LR on plateau conditioned on metric `val_top_3_accuracy` which is not available. Available metrics are: loss,acc,categorical_accuracy,val_loss,val_acc,val_categorical_accuracy,lr\n"
     ]
    },
    {
     "name": "stdout",
     "output_type": "stream",
     "text": [
      "10/10 [==============================] - 1s 114ms/step - loss: 1.3330 - acc: 0.3900 - categorical_accuracy: 0.3900 - val_loss: 1.3341 - val_acc: 0.4000 - val_categorical_accuracy: 0.4000\n",
      "Epoch 16/100\n",
      " 9/10 [==========================>...] - ETA: 0s - loss: 1.3306 - acc: 0.3778 - categorical_accuracy: 0.3778"
     ]
    },
    {
     "name": "stderr",
     "output_type": "stream",
     "text": [
      "W1102 15:47:29.187708 139685467260736 callbacks.py:989] Can save best model only with val_top_3_accuracy available, skipping.\n",
      "W1102 15:47:29.188905 139685467260736 callbacks.py:1833] Reduce LR on plateau conditioned on metric `val_top_3_accuracy` which is not available. Available metrics are: loss,acc,categorical_accuracy,val_loss,val_acc,val_categorical_accuracy,lr\n"
     ]
    },
    {
     "name": "stdout",
     "output_type": "stream",
     "text": [
      "10/10 [==============================] - 1s 115ms/step - loss: 1.3280 - acc: 0.3800 - categorical_accuracy: 0.3800 - val_loss: 1.3298 - val_acc: 0.4100 - val_categorical_accuracy: 0.4100\n",
      "Epoch 17/100\n",
      " 9/10 [==========================>...] - ETA: 0s - loss: 1.3376 - acc: 0.3667 - categorical_accuracy: 0.3667"
     ]
    },
    {
     "name": "stderr",
     "output_type": "stream",
     "text": [
      "W1102 15:47:30.351675 139685467260736 callbacks.py:989] Can save best model only with val_top_3_accuracy available, skipping.\n",
      "W1102 15:47:30.353557 139685467260736 callbacks.py:1833] Reduce LR on plateau conditioned on metric `val_top_3_accuracy` which is not available. Available metrics are: loss,acc,categorical_accuracy,val_loss,val_acc,val_categorical_accuracy,lr\n"
     ]
    },
    {
     "name": "stdout",
     "output_type": "stream",
     "text": [
      "10/10 [==============================] - 1s 116ms/step - loss: 1.3381 - acc: 0.3600 - categorical_accuracy: 0.3600 - val_loss: 1.3244 - val_acc: 0.4100 - val_categorical_accuracy: 0.4100\n",
      "Epoch 18/100\n",
      " 9/10 [==========================>...] - ETA: 0s - loss: 1.3113 - acc: 0.4556 - categorical_accuracy: 0.4556"
     ]
    },
    {
     "name": "stderr",
     "output_type": "stream",
     "text": [
      "W1102 15:47:31.503033 139685467260736 callbacks.py:989] Can save best model only with val_top_3_accuracy available, skipping.\n",
      "W1102 15:47:31.504301 139685467260736 callbacks.py:1833] Reduce LR on plateau conditioned on metric `val_top_3_accuracy` which is not available. Available metrics are: loss,acc,categorical_accuracy,val_loss,val_acc,val_categorical_accuracy,lr\n"
     ]
    },
    {
     "name": "stdout",
     "output_type": "stream",
     "text": [
      "10/10 [==============================] - 1s 115ms/step - loss: 1.3104 - acc: 0.4500 - categorical_accuracy: 0.4500 - val_loss: 1.3145 - val_acc: 0.4300 - val_categorical_accuracy: 0.4300\n",
      "Epoch 19/100\n",
      " 9/10 [==========================>...] - ETA: 0s - loss: 1.3140 - acc: 0.4111 - categorical_accuracy: 0.4111"
     ]
    },
    {
     "name": "stderr",
     "output_type": "stream",
     "text": [
      "W1102 15:47:32.564922 139685467260736 callbacks.py:989] Can save best model only with val_top_3_accuracy available, skipping.\n",
      "W1102 15:47:32.566118 139685467260736 callbacks.py:1833] Reduce LR on plateau conditioned on metric `val_top_3_accuracy` which is not available. Available metrics are: loss,acc,categorical_accuracy,val_loss,val_acc,val_categorical_accuracy,lr\n"
     ]
    },
    {
     "name": "stdout",
     "output_type": "stream",
     "text": [
      "10/10 [==============================] - 1s 106ms/step - loss: 1.3142 - acc: 0.4100 - categorical_accuracy: 0.4100 - val_loss: 1.3114 - val_acc: 0.4000 - val_categorical_accuracy: 0.4000\n",
      "Epoch 20/100\n",
      " 9/10 [==========================>...] - ETA: 0s - loss: 1.3082 - acc: 0.3889 - categorical_accuracy: 0.3889"
     ]
    },
    {
     "name": "stderr",
     "output_type": "stream",
     "text": [
      "W1102 15:47:33.610674 139685467260736 callbacks.py:989] Can save best model only with val_top_3_accuracy available, skipping.\n",
      "W1102 15:47:33.611714 139685467260736 callbacks.py:1833] Reduce LR on plateau conditioned on metric `val_top_3_accuracy` which is not available. Available metrics are: loss,acc,categorical_accuracy,val_loss,val_acc,val_categorical_accuracy,lr\n"
     ]
    },
    {
     "name": "stdout",
     "output_type": "stream",
     "text": [
      "10/10 [==============================] - 1s 104ms/step - loss: 1.3041 - acc: 0.3900 - categorical_accuracy: 0.3900 - val_loss: 1.2827 - val_acc: 0.4700 - val_categorical_accuracy: 0.4700\n",
      "Epoch 21/100\n",
      " 9/10 [==========================>...] - ETA: 0s - loss: 1.3031 - acc: 0.4333 - categorical_accuracy: 0.4333"
     ]
    },
    {
     "name": "stderr",
     "output_type": "stream",
     "text": [
      "W1102 15:47:34.757346 139685467260736 callbacks.py:989] Can save best model only with val_top_3_accuracy available, skipping.\n",
      "W1102 15:47:34.758897 139685467260736 callbacks.py:1833] Reduce LR on plateau conditioned on metric `val_top_3_accuracy` which is not available. Available metrics are: loss,acc,categorical_accuracy,val_loss,val_acc,val_categorical_accuracy,lr\n"
     ]
    },
    {
     "name": "stdout",
     "output_type": "stream",
     "text": [
      "10/10 [==============================] - 1s 115ms/step - loss: 1.2969 - acc: 0.4600 - categorical_accuracy: 0.4600 - val_loss: 1.2990 - val_acc: 0.5100 - val_categorical_accuracy: 0.5100\n",
      "Epoch 22/100\n",
      " 9/10 [==========================>...] - ETA: 0s - loss: 1.2961 - acc: 0.4667 - categorical_accuracy: 0.4667"
     ]
    },
    {
     "name": "stderr",
     "output_type": "stream",
     "text": [
      "W1102 15:47:35.950504 139685467260736 callbacks.py:989] Can save best model only with val_top_3_accuracy available, skipping.\n",
      "W1102 15:47:35.951824 139685467260736 callbacks.py:1833] Reduce LR on plateau conditioned on metric `val_top_3_accuracy` which is not available. Available metrics are: loss,acc,categorical_accuracy,val_loss,val_acc,val_categorical_accuracy,lr\n"
     ]
    },
    {
     "name": "stdout",
     "output_type": "stream",
     "text": [
      "10/10 [==============================] - 1s 119ms/step - loss: 1.2939 - acc: 0.4900 - categorical_accuracy: 0.4900 - val_loss: 1.2790 - val_acc: 0.5700 - val_categorical_accuracy: 0.5700\n",
      "Epoch 23/100\n",
      " 9/10 [==========================>...] - ETA: 0s - loss: 1.2895 - acc: 0.4889 - categorical_accuracy: 0.4889"
     ]
    },
    {
     "name": "stderr",
     "output_type": "stream",
     "text": [
      "W1102 15:47:37.130843 139685467260736 callbacks.py:989] Can save best model only with val_top_3_accuracy available, skipping.\n",
      "W1102 15:47:37.132385 139685467260736 callbacks.py:1833] Reduce LR on plateau conditioned on metric `val_top_3_accuracy` which is not available. Available metrics are: loss,acc,categorical_accuracy,val_loss,val_acc,val_categorical_accuracy,lr\n"
     ]
    },
    {
     "name": "stdout",
     "output_type": "stream",
     "text": [
      "10/10 [==============================] - 1s 118ms/step - loss: 1.2851 - acc: 0.5100 - categorical_accuracy: 0.5100 - val_loss: 1.2668 - val_acc: 0.5900 - val_categorical_accuracy: 0.5900\n",
      "Epoch 24/100\n",
      " 9/10 [==========================>...] - ETA: 0s - loss: 1.2673 - acc: 0.5667 - categorical_accuracy: 0.5667"
     ]
    },
    {
     "name": "stderr",
     "output_type": "stream",
     "text": [
      "W1102 15:47:38.288239 139685467260736 callbacks.py:989] Can save best model only with val_top_3_accuracy available, skipping.\n",
      "W1102 15:47:38.289386 139685467260736 callbacks.py:1833] Reduce LR on plateau conditioned on metric `val_top_3_accuracy` which is not available. Available metrics are: loss,acc,categorical_accuracy,val_loss,val_acc,val_categorical_accuracy,lr\n"
     ]
    },
    {
     "name": "stdout",
     "output_type": "stream",
     "text": [
      "10/10 [==============================] - 1s 115ms/step - loss: 1.2691 - acc: 0.5600 - categorical_accuracy: 0.5600 - val_loss: 1.2793 - val_acc: 0.5500 - val_categorical_accuracy: 0.5500\n",
      "Epoch 25/100\n",
      " 9/10 [==========================>...] - ETA: 0s - loss: 1.2678 - acc: 0.5444 - categorical_accuracy: 0.5444"
     ]
    },
    {
     "name": "stderr",
     "output_type": "stream",
     "text": [
      "W1102 15:47:39.489569 139685467260736 callbacks.py:989] Can save best model only with val_top_3_accuracy available, skipping.\n",
      "W1102 15:47:39.490980 139685467260736 callbacks.py:1833] Reduce LR on plateau conditioned on metric `val_top_3_accuracy` which is not available. Available metrics are: loss,acc,categorical_accuracy,val_loss,val_acc,val_categorical_accuracy,lr\n"
     ]
    },
    {
     "name": "stdout",
     "output_type": "stream",
     "text": [
      "10/10 [==============================] - 1s 120ms/step - loss: 1.2650 - acc: 0.5400 - categorical_accuracy: 0.5400 - val_loss: 1.2741 - val_acc: 0.5200 - val_categorical_accuracy: 0.5200\n",
      "Epoch 26/100\n",
      " 9/10 [==========================>...] - ETA: 0s - loss: 1.2451 - acc: 0.5333 - categorical_accuracy: 0.5333"
     ]
    },
    {
     "name": "stderr",
     "output_type": "stream",
     "text": [
      "W1102 15:47:40.680492 139685467260736 callbacks.py:989] Can save best model only with val_top_3_accuracy available, skipping.\n",
      "W1102 15:47:40.681798 139685467260736 callbacks.py:1833] Reduce LR on plateau conditioned on metric `val_top_3_accuracy` which is not available. Available metrics are: loss,acc,categorical_accuracy,val_loss,val_acc,val_categorical_accuracy,lr\n"
     ]
    },
    {
     "name": "stdout",
     "output_type": "stream",
     "text": [
      "10/10 [==============================] - 1s 119ms/step - loss: 1.2458 - acc: 0.5400 - categorical_accuracy: 0.5400 - val_loss: 1.2580 - val_acc: 0.5700 - val_categorical_accuracy: 0.5700\n",
      "Epoch 27/100\n",
      " 9/10 [==========================>...] - ETA: 0s - loss: 1.2591 - acc: 0.5000 - categorical_accuracy: 0.5000"
     ]
    },
    {
     "name": "stderr",
     "output_type": "stream",
     "text": [
      "W1102 15:47:41.891319 139685467260736 callbacks.py:989] Can save best model only with val_top_3_accuracy available, skipping.\n",
      "W1102 15:47:41.892587 139685467260736 callbacks.py:1833] Reduce LR on plateau conditioned on metric `val_top_3_accuracy` which is not available. Available metrics are: loss,acc,categorical_accuracy,val_loss,val_acc,val_categorical_accuracy,lr\n"
     ]
    },
    {
     "name": "stdout",
     "output_type": "stream",
     "text": [
      "10/10 [==============================] - 1s 121ms/step - loss: 1.2600 - acc: 0.5000 - categorical_accuracy: 0.5000 - val_loss: 1.2499 - val_acc: 0.5800 - val_categorical_accuracy: 0.5800\n",
      "Epoch 28/100\n",
      " 9/10 [==========================>...] - ETA: 0s - loss: 1.2522 - acc: 0.5444 - categorical_accuracy: 0.5444"
     ]
    },
    {
     "name": "stderr",
     "output_type": "stream",
     "text": [
      "W1102 15:47:43.114711 139685467260736 callbacks.py:989] Can save best model only with val_top_3_accuracy available, skipping.\n",
      "W1102 15:47:43.116160 139685467260736 callbacks.py:1833] Reduce LR on plateau conditioned on metric `val_top_3_accuracy` which is not available. Available metrics are: loss,acc,categorical_accuracy,val_loss,val_acc,val_categorical_accuracy,lr\n"
     ]
    },
    {
     "name": "stdout",
     "output_type": "stream",
     "text": [
      "10/10 [==============================] - 1s 122ms/step - loss: 1.2519 - acc: 0.5400 - categorical_accuracy: 0.5400 - val_loss: 1.2468 - val_acc: 0.5600 - val_categorical_accuracy: 0.5600\n",
      "Epoch 29/100\n",
      " 9/10 [==========================>...] - ETA: 0s - loss: 1.2370 - acc: 0.5778 - categorical_accuracy: 0.5778"
     ]
    },
    {
     "name": "stderr",
     "output_type": "stream",
     "text": [
      "W1102 15:47:44.333143 139685467260736 callbacks.py:989] Can save best model only with val_top_3_accuracy available, skipping.\n",
      "W1102 15:47:44.334722 139685467260736 callbacks.py:1833] Reduce LR on plateau conditioned on metric `val_top_3_accuracy` which is not available. Available metrics are: loss,acc,categorical_accuracy,val_loss,val_acc,val_categorical_accuracy,lr\n"
     ]
    },
    {
     "name": "stdout",
     "output_type": "stream",
     "text": [
      "10/10 [==============================] - 1s 122ms/step - loss: 1.2347 - acc: 0.5800 - categorical_accuracy: 0.5800 - val_loss: 1.2429 - val_acc: 0.5700 - val_categorical_accuracy: 0.5700\n",
      "Epoch 30/100\n",
      " 9/10 [==========================>...] - ETA: 0s - loss: 1.2321 - acc: 0.5444 - categorical_accuracy: 0.5444"
     ]
    },
    {
     "name": "stderr",
     "output_type": "stream",
     "text": [
      "W1102 15:47:45.530580 139685467260736 callbacks.py:989] Can save best model only with val_top_3_accuracy available, skipping.\n",
      "W1102 15:47:45.531893 139685467260736 callbacks.py:1833] Reduce LR on plateau conditioned on metric `val_top_3_accuracy` which is not available. Available metrics are: loss,acc,categorical_accuracy,val_loss,val_acc,val_categorical_accuracy,lr\n"
     ]
    },
    {
     "name": "stdout",
     "output_type": "stream",
     "text": [
      "10/10 [==============================] - 1s 119ms/step - loss: 1.2354 - acc: 0.5500 - categorical_accuracy: 0.5500 - val_loss: 1.2508 - val_acc: 0.5300 - val_categorical_accuracy: 0.5300\n",
      "Epoch 31/100\n",
      " 9/10 [==========================>...] - ETA: 0s - loss: 1.2513 - acc: 0.4889 - categorical_accuracy: 0.4889"
     ]
    },
    {
     "name": "stderr",
     "output_type": "stream",
     "text": [
      "W1102 15:47:46.622720 139685467260736 callbacks.py:989] Can save best model only with val_top_3_accuracy available, skipping.\n",
      "W1102 15:47:46.624236 139685467260736 callbacks.py:1833] Reduce LR on plateau conditioned on metric `val_top_3_accuracy` which is not available. Available metrics are: loss,acc,categorical_accuracy,val_loss,val_acc,val_categorical_accuracy,lr\n"
     ]
    },
    {
     "name": "stdout",
     "output_type": "stream",
     "text": [
      "10/10 [==============================] - 1s 109ms/step - loss: 1.2433 - acc: 0.5000 - categorical_accuracy: 0.5000 - val_loss: 1.2917 - val_acc: 0.4500 - val_categorical_accuracy: 0.4500\n",
      "Epoch 32/100\n",
      " 9/10 [==========================>...] - ETA: 0s - loss: 1.2685 - acc: 0.4889 - categorical_accuracy: 0.4889"
     ]
    },
    {
     "name": "stderr",
     "output_type": "stream",
     "text": [
      "W1102 15:47:47.813792 139685467260736 callbacks.py:989] Can save best model only with val_top_3_accuracy available, skipping.\n",
      "W1102 15:47:47.815284 139685467260736 callbacks.py:1833] Reduce LR on plateau conditioned on metric `val_top_3_accuracy` which is not available. Available metrics are: loss,acc,categorical_accuracy,val_loss,val_acc,val_categorical_accuracy,lr\n"
     ]
    },
    {
     "name": "stdout",
     "output_type": "stream",
     "text": [
      "10/10 [==============================] - 1s 119ms/step - loss: 1.2619 - acc: 0.5000 - categorical_accuracy: 0.5000 - val_loss: 1.2445 - val_acc: 0.5400 - val_categorical_accuracy: 0.5400\n",
      "Epoch 33/100\n",
      " 9/10 [==========================>...] - ETA: 0s - loss: 1.2413 - acc: 0.5333 - categorical_accuracy: 0.5333"
     ]
    },
    {
     "name": "stderr",
     "output_type": "stream",
     "text": [
      "W1102 15:47:49.072322 139685467260736 callbacks.py:989] Can save best model only with val_top_3_accuracy available, skipping.\n",
      "W1102 15:47:49.073721 139685467260736 callbacks.py:1833] Reduce LR on plateau conditioned on metric `val_top_3_accuracy` which is not available. Available metrics are: loss,acc,categorical_accuracy,val_loss,val_acc,val_categorical_accuracy,lr\n"
     ]
    },
    {
     "name": "stdout",
     "output_type": "stream",
     "text": [
      "10/10 [==============================] - 1s 125ms/step - loss: 1.2340 - acc: 0.5700 - categorical_accuracy: 0.5700 - val_loss: 1.2164 - val_acc: 0.5800 - val_categorical_accuracy: 0.5800\n",
      "Epoch 34/100\n",
      " 9/10 [==========================>...] - ETA: 0s - loss: 1.2348 - acc: 0.5222 - categorical_accuracy: 0.5222"
     ]
    },
    {
     "name": "stderr",
     "output_type": "stream",
     "text": [
      "W1102 15:47:50.312526 139685467260736 callbacks.py:989] Can save best model only with val_top_3_accuracy available, skipping.\n",
      "W1102 15:47:50.314188 139685467260736 callbacks.py:1833] Reduce LR on plateau conditioned on metric `val_top_3_accuracy` which is not available. Available metrics are: loss,acc,categorical_accuracy,val_loss,val_acc,val_categorical_accuracy,lr\n"
     ]
    },
    {
     "name": "stdout",
     "output_type": "stream",
     "text": [
      "10/10 [==============================] - 1s 124ms/step - loss: 1.2148 - acc: 0.5400 - categorical_accuracy: 0.5400 - val_loss: 1.2124 - val_acc: 0.5700 - val_categorical_accuracy: 0.5700\n",
      "Epoch 35/100\n",
      " 9/10 [==========================>...] - ETA: 0s - loss: 1.1979 - acc: 0.5667 - categorical_accuracy: 0.5667"
     ]
    },
    {
     "name": "stderr",
     "output_type": "stream",
     "text": [
      "W1102 15:47:51.607252 139685467260736 callbacks.py:989] Can save best model only with val_top_3_accuracy available, skipping.\n",
      "W1102 15:47:51.609008 139685467260736 callbacks.py:1833] Reduce LR on plateau conditioned on metric `val_top_3_accuracy` which is not available. Available metrics are: loss,acc,categorical_accuracy,val_loss,val_acc,val_categorical_accuracy,lr\n"
     ]
    },
    {
     "name": "stdout",
     "output_type": "stream",
     "text": [
      "10/10 [==============================] - 1s 129ms/step - loss: 1.2035 - acc: 0.5600 - categorical_accuracy: 0.5600 - val_loss: 1.2002 - val_acc: 0.6000 - val_categorical_accuracy: 0.6000\n",
      "Epoch 36/100\n",
      " 9/10 [==========================>...] - ETA: 0s - loss: 1.1963 - acc: 0.6000 - categorical_accuracy: 0.6000"
     ]
    },
    {
     "name": "stderr",
     "output_type": "stream",
     "text": [
      "W1102 15:47:52.803929 139685467260736 callbacks.py:989] Can save best model only with val_top_3_accuracy available, skipping.\n",
      "W1102 15:47:52.805464 139685467260736 callbacks.py:1833] Reduce LR on plateau conditioned on metric `val_top_3_accuracy` which is not available. Available metrics are: loss,acc,categorical_accuracy,val_loss,val_acc,val_categorical_accuracy,lr\n"
     ]
    },
    {
     "name": "stdout",
     "output_type": "stream",
     "text": [
      "10/10 [==============================] - 1s 119ms/step - loss: 1.1915 - acc: 0.6100 - categorical_accuracy: 0.6100 - val_loss: 1.2006 - val_acc: 0.5800 - val_categorical_accuracy: 0.5800\n",
      "Epoch 37/100\n",
      " 9/10 [==========================>...] - ETA: 0s - loss: 1.2117 - acc: 0.5333 - categorical_accuracy: 0.5333"
     ]
    },
    {
     "name": "stderr",
     "output_type": "stream",
     "text": [
      "W1102 15:47:54.054219 139685467260736 callbacks.py:989] Can save best model only with val_top_3_accuracy available, skipping.\n",
      "W1102 15:47:54.055751 139685467260736 callbacks.py:1833] Reduce LR on plateau conditioned on metric `val_top_3_accuracy` which is not available. Available metrics are: loss,acc,categorical_accuracy,val_loss,val_acc,val_categorical_accuracy,lr\n"
     ]
    },
    {
     "name": "stdout",
     "output_type": "stream",
     "text": [
      "10/10 [==============================] - 1s 125ms/step - loss: 1.2170 - acc: 0.5200 - categorical_accuracy: 0.5200 - val_loss: 1.1826 - val_acc: 0.6000 - val_categorical_accuracy: 0.6000\n",
      "Epoch 38/100\n",
      " 9/10 [==========================>...] - ETA: 0s - loss: 1.1889 - acc: 0.5556 - categorical_accuracy: 0.5556"
     ]
    },
    {
     "name": "stderr",
     "output_type": "stream",
     "text": [
      "W1102 15:47:55.241859 139685467260736 callbacks.py:989] Can save best model only with val_top_3_accuracy available, skipping.\n",
      "W1102 15:47:55.243105 139685467260736 callbacks.py:1833] Reduce LR on plateau conditioned on metric `val_top_3_accuracy` which is not available. Available metrics are: loss,acc,categorical_accuracy,val_loss,val_acc,val_categorical_accuracy,lr\n"
     ]
    },
    {
     "name": "stdout",
     "output_type": "stream",
     "text": [
      "10/10 [==============================] - 1s 118ms/step - loss: 1.1847 - acc: 0.5700 - categorical_accuracy: 0.5700 - val_loss: 1.1726 - val_acc: 0.6400 - val_categorical_accuracy: 0.6400\n",
      "Epoch 39/100\n",
      " 9/10 [==========================>...] - ETA: 0s - loss: 1.1978 - acc: 0.5333 - categorical_accuracy: 0.5333"
     ]
    },
    {
     "name": "stderr",
     "output_type": "stream",
     "text": [
      "W1102 15:47:56.482921 139685467260736 callbacks.py:989] Can save best model only with val_top_3_accuracy available, skipping.\n",
      "W1102 15:47:56.484717 139685467260736 callbacks.py:1833] Reduce LR on plateau conditioned on metric `val_top_3_accuracy` which is not available. Available metrics are: loss,acc,categorical_accuracy,val_loss,val_acc,val_categorical_accuracy,lr\n"
     ]
    },
    {
     "name": "stdout",
     "output_type": "stream",
     "text": [
      "10/10 [==============================] - 1s 124ms/step - loss: 1.1883 - acc: 0.5600 - categorical_accuracy: 0.5600 - val_loss: 1.1644 - val_acc: 0.6500 - val_categorical_accuracy: 0.6500\n",
      "Epoch 40/100\n",
      " 9/10 [==========================>...] - ETA: 0s - loss: 1.1549 - acc: 0.6222 - categorical_accuracy: 0.6222"
     ]
    },
    {
     "name": "stderr",
     "output_type": "stream",
     "text": [
      "W1102 15:47:57.554844 139685467260736 callbacks.py:989] Can save best model only with val_top_3_accuracy available, skipping.\n",
      "W1102 15:47:57.556493 139685467260736 callbacks.py:1833] Reduce LR on plateau conditioned on metric `val_top_3_accuracy` which is not available. Available metrics are: loss,acc,categorical_accuracy,val_loss,val_acc,val_categorical_accuracy,lr\n"
     ]
    },
    {
     "name": "stdout",
     "output_type": "stream",
     "text": [
      "10/10 [==============================] - 1s 107ms/step - loss: 1.1552 - acc: 0.6300 - categorical_accuracy: 0.6300 - val_loss: 1.1521 - val_acc: 0.6700 - val_categorical_accuracy: 0.6700\n",
      "Epoch 41/100\n",
      " 9/10 [==========================>...] - ETA: 0s - loss: 1.1697 - acc: 0.5778 - categorical_accuracy: 0.5778"
     ]
    },
    {
     "name": "stderr",
     "output_type": "stream",
     "text": [
      "W1102 15:47:58.604705 139685467260736 callbacks.py:989] Can save best model only with val_top_3_accuracy available, skipping.\n",
      "W1102 15:47:58.605907 139685467260736 callbacks.py:1833] Reduce LR on plateau conditioned on metric `val_top_3_accuracy` which is not available. Available metrics are: loss,acc,categorical_accuracy,val_loss,val_acc,val_categorical_accuracy,lr\n"
     ]
    },
    {
     "name": "stdout",
     "output_type": "stream",
     "text": [
      "10/10 [==============================] - 1s 105ms/step - loss: 1.1677 - acc: 0.6000 - categorical_accuracy: 0.6000 - val_loss: 1.1495 - val_acc: 0.6500 - val_categorical_accuracy: 0.6500\n",
      "Epoch 42/100\n",
      " 9/10 [==========================>...] - ETA: 0s - loss: 1.1516 - acc: 0.6444 - categorical_accuracy: 0.6444"
     ]
    },
    {
     "name": "stderr",
     "output_type": "stream",
     "text": [
      "W1102 15:47:59.752764 139685467260736 callbacks.py:989] Can save best model only with val_top_3_accuracy available, skipping.\n",
      "W1102 15:47:59.754367 139685467260736 callbacks.py:1833] Reduce LR on plateau conditioned on metric `val_top_3_accuracy` which is not available. Available metrics are: loss,acc,categorical_accuracy,val_loss,val_acc,val_categorical_accuracy,lr\n"
     ]
    },
    {
     "name": "stdout",
     "output_type": "stream",
     "text": [
      "10/10 [==============================] - 1s 115ms/step - loss: 1.1397 - acc: 0.6600 - categorical_accuracy: 0.6600 - val_loss: 1.1418 - val_acc: 0.6600 - val_categorical_accuracy: 0.6600\n",
      "Epoch 43/100\n",
      " 9/10 [==========================>...] - ETA: 0s - loss: 1.1516 - acc: 0.6000 - categorical_accuracy: 0.6000"
     ]
    },
    {
     "name": "stderr",
     "output_type": "stream",
     "text": [
      "W1102 15:48:00.919551 139685467260736 callbacks.py:989] Can save best model only with val_top_3_accuracy available, skipping.\n",
      "W1102 15:48:00.920966 139685467260736 callbacks.py:1833] Reduce LR on plateau conditioned on metric `val_top_3_accuracy` which is not available. Available metrics are: loss,acc,categorical_accuracy,val_loss,val_acc,val_categorical_accuracy,lr\n"
     ]
    },
    {
     "name": "stdout",
     "output_type": "stream",
     "text": [
      "10/10 [==============================] - 1s 116ms/step - loss: 1.1456 - acc: 0.6100 - categorical_accuracy: 0.6100 - val_loss: 1.1356 - val_acc: 0.6500 - val_categorical_accuracy: 0.6500\n",
      "Epoch 44/100\n",
      " 9/10 [==========================>...] - ETA: 0s - loss: 1.1363 - acc: 0.6333 - categorical_accuracy: 0.6333"
     ]
    },
    {
     "name": "stderr",
     "output_type": "stream",
     "text": [
      "W1102 15:48:01.955496 139685467260736 callbacks.py:989] Can save best model only with val_top_3_accuracy available, skipping.\n",
      "W1102 15:48:01.956935 139685467260736 callbacks.py:1833] Reduce LR on plateau conditioned on metric `val_top_3_accuracy` which is not available. Available metrics are: loss,acc,categorical_accuracy,val_loss,val_acc,val_categorical_accuracy,lr\n"
     ]
    },
    {
     "name": "stdout",
     "output_type": "stream",
     "text": [
      "10/10 [==============================] - 1s 103ms/step - loss: 1.1326 - acc: 0.6400 - categorical_accuracy: 0.6400 - val_loss: 1.1253 - val_acc: 0.6400 - val_categorical_accuracy: 0.6400\n",
      "Epoch 45/100\n",
      " 8/10 [=======================>......] - ETA: 0s - loss: 1.1243 - acc: 0.6625 - categorical_accuracy: 0.6625"
     ]
    },
    {
     "name": "stderr",
     "output_type": "stream",
     "text": [
      "W1102 15:48:03.002450 139685467260736 callbacks.py:989] Can save best model only with val_top_3_accuracy available, skipping.\n",
      "W1102 15:48:03.003550 139685467260736 callbacks.py:1833] Reduce LR on plateau conditioned on metric `val_top_3_accuracy` which is not available. Available metrics are: loss,acc,categorical_accuracy,val_loss,val_acc,val_categorical_accuracy,lr\n"
     ]
    },
    {
     "name": "stdout",
     "output_type": "stream",
     "text": [
      "10/10 [==============================] - 1s 104ms/step - loss: 1.1180 - acc: 0.6600 - categorical_accuracy: 0.6600 - val_loss: 1.1223 - val_acc: 0.6500 - val_categorical_accuracy: 0.6500\n",
      "Epoch 46/100\n",
      " 9/10 [==========================>...] - ETA: 0s - loss: 1.1249 - acc: 0.6111 - categorical_accuracy: 0.6111"
     ]
    },
    {
     "name": "stderr",
     "output_type": "stream",
     "text": [
      "W1102 15:48:04.034715 139685467260736 callbacks.py:989] Can save best model only with val_top_3_accuracy available, skipping.\n",
      "W1102 15:48:04.035895 139685467260736 callbacks.py:1833] Reduce LR on plateau conditioned on metric `val_top_3_accuracy` which is not available. Available metrics are: loss,acc,categorical_accuracy,val_loss,val_acc,val_categorical_accuracy,lr\n"
     ]
    },
    {
     "name": "stdout",
     "output_type": "stream",
     "text": [
      "10/10 [==============================] - 1s 103ms/step - loss: 1.1303 - acc: 0.5900 - categorical_accuracy: 0.5900 - val_loss: 1.1157 - val_acc: 0.6500 - val_categorical_accuracy: 0.6500\n",
      "Epoch 47/100\n",
      " 9/10 [==========================>...] - ETA: 0s - loss: 1.1297 - acc: 0.5778 - categorical_accuracy: 0.5778"
     ]
    },
    {
     "name": "stderr",
     "output_type": "stream",
     "text": [
      "W1102 15:48:05.059954 139685467260736 callbacks.py:989] Can save best model only with val_top_3_accuracy available, skipping.\n",
      "W1102 15:48:05.061079 139685467260736 callbacks.py:1833] Reduce LR on plateau conditioned on metric `val_top_3_accuracy` which is not available. Available metrics are: loss,acc,categorical_accuracy,val_loss,val_acc,val_categorical_accuracy,lr\n"
     ]
    },
    {
     "name": "stdout",
     "output_type": "stream",
     "text": [
      "10/10 [==============================] - 1s 102ms/step - loss: 1.1248 - acc: 0.5900 - categorical_accuracy: 0.5900 - val_loss: 1.1101 - val_acc: 0.6500 - val_categorical_accuracy: 0.6500\n",
      "Epoch 48/100\n",
      " 9/10 [==========================>...] - ETA: 0s - loss: 1.1144 - acc: 0.6222 - categorical_accuracy: 0.6222"
     ]
    },
    {
     "name": "stderr",
     "output_type": "stream",
     "text": [
      "W1102 15:48:06.200774 139685467260736 callbacks.py:989] Can save best model only with val_top_3_accuracy available, skipping.\n",
      "W1102 15:48:06.202413 139685467260736 callbacks.py:1833] Reduce LR on plateau conditioned on metric `val_top_3_accuracy` which is not available. Available metrics are: loss,acc,categorical_accuracy,val_loss,val_acc,val_categorical_accuracy,lr\n"
     ]
    },
    {
     "name": "stdout",
     "output_type": "stream",
     "text": [
      "10/10 [==============================] - 1s 114ms/step - loss: 1.1082 - acc: 0.6400 - categorical_accuracy: 0.6400 - val_loss: 1.0885 - val_acc: 0.6700 - val_categorical_accuracy: 0.6700\n",
      "Epoch 49/100\n",
      " 9/10 [==========================>...] - ETA: 0s - loss: 1.1108 - acc: 0.5778 - categorical_accuracy: 0.5778"
     ]
    },
    {
     "name": "stderr",
     "output_type": "stream",
     "text": [
      "W1102 15:48:07.464382 139685467260736 callbacks.py:989] Can save best model only with val_top_3_accuracy available, skipping.\n",
      "W1102 15:48:07.465492 139685467260736 callbacks.py:1833] Reduce LR on plateau conditioned on metric `val_top_3_accuracy` which is not available. Available metrics are: loss,acc,categorical_accuracy,val_loss,val_acc,val_categorical_accuracy,lr\n"
     ]
    },
    {
     "name": "stdout",
     "output_type": "stream",
     "text": [
      "10/10 [==============================] - 1s 126ms/step - loss: 1.0871 - acc: 0.6200 - categorical_accuracy: 0.6200 - val_loss: 1.0987 - val_acc: 0.6500 - val_categorical_accuracy: 0.6500\n",
      "Epoch 50/100\n",
      " 9/10 [==========================>...] - ETA: 0s - loss: 1.1139 - acc: 0.6111 - categorical_accuracy: 0.6111"
     ]
    },
    {
     "name": "stderr",
     "output_type": "stream",
     "text": [
      "W1102 15:48:08.668895 139685467260736 callbacks.py:989] Can save best model only with val_top_3_accuracy available, skipping.\n",
      "W1102 15:48:08.670324 139685467260736 callbacks.py:1833] Reduce LR on plateau conditioned on metric `val_top_3_accuracy` which is not available. Available metrics are: loss,acc,categorical_accuracy,val_loss,val_acc,val_categorical_accuracy,lr\n"
     ]
    },
    {
     "name": "stdout",
     "output_type": "stream",
     "text": [
      "10/10 [==============================] - 1s 120ms/step - loss: 1.1057 - acc: 0.6200 - categorical_accuracy: 0.6200 - val_loss: 1.0917 - val_acc: 0.6500 - val_categorical_accuracy: 0.6500\n",
      "Epoch 51/100\n",
      " 9/10 [==========================>...] - ETA: 0s - loss: 1.1065 - acc: 0.5778 - categorical_accuracy: 0.5778"
     ]
    },
    {
     "name": "stderr",
     "output_type": "stream",
     "text": [
      "W1102 15:48:09.815922 139685467260736 callbacks.py:989] Can save best model only with val_top_3_accuracy available, skipping.\n",
      "W1102 15:48:09.817398 139685467260736 callbacks.py:1833] Reduce LR on plateau conditioned on metric `val_top_3_accuracy` which is not available. Available metrics are: loss,acc,categorical_accuracy,val_loss,val_acc,val_categorical_accuracy,lr\n"
     ]
    },
    {
     "name": "stdout",
     "output_type": "stream",
     "text": [
      "10/10 [==============================] - 1s 114ms/step - loss: 1.1023 - acc: 0.5900 - categorical_accuracy: 0.5900 - val_loss: 1.0879 - val_acc: 0.6600 - val_categorical_accuracy: 0.6600\n",
      "Epoch 52/100\n",
      " 9/10 [==========================>...] - ETA: 0s - loss: 1.0957 - acc: 0.5889 - categorical_accuracy: 0.5889"
     ]
    },
    {
     "name": "stderr",
     "output_type": "stream",
     "text": [
      "W1102 15:48:11.028180 139685467260736 callbacks.py:989] Can save best model only with val_top_3_accuracy available, skipping.\n",
      "W1102 15:48:11.029633 139685467260736 callbacks.py:1833] Reduce LR on plateau conditioned on metric `val_top_3_accuracy` which is not available. Available metrics are: loss,acc,categorical_accuracy,val_loss,val_acc,val_categorical_accuracy,lr\n"
     ]
    },
    {
     "name": "stdout",
     "output_type": "stream",
     "text": [
      "10/10 [==============================] - 1s 121ms/step - loss: 1.0971 - acc: 0.6000 - categorical_accuracy: 0.6000 - val_loss: 1.0805 - val_acc: 0.6700 - val_categorical_accuracy: 0.6700\n",
      "Epoch 53/100\n",
      " 9/10 [==========================>...] - ETA: 0s - loss: 1.0907 - acc: 0.6111 - categorical_accuracy: 0.6111"
     ]
    },
    {
     "name": "stderr",
     "output_type": "stream",
     "text": [
      "W1102 15:48:12.226750 139685467260736 callbacks.py:989] Can save best model only with val_top_3_accuracy available, skipping.\n",
      "W1102 15:48:12.227942 139685467260736 callbacks.py:1833] Reduce LR on plateau conditioned on metric `val_top_3_accuracy` which is not available. Available metrics are: loss,acc,categorical_accuracy,val_loss,val_acc,val_categorical_accuracy,lr\n"
     ]
    },
    {
     "name": "stdout",
     "output_type": "stream",
     "text": [
      "10/10 [==============================] - 1s 119ms/step - loss: 1.1013 - acc: 0.6000 - categorical_accuracy: 0.6000 - val_loss: 1.0886 - val_acc: 0.6300 - val_categorical_accuracy: 0.6300\n",
      "Epoch 54/100\n",
      " 9/10 [==========================>...] - ETA: 0s - loss: 1.0907 - acc: 0.5778 - categorical_accuracy: 0.5778"
     ]
    },
    {
     "name": "stderr",
     "output_type": "stream",
     "text": [
      "W1102 15:48:13.424077 139685467260736 callbacks.py:989] Can save best model only with val_top_3_accuracy available, skipping.\n",
      "W1102 15:48:13.426835 139685467260736 callbacks.py:1833] Reduce LR on plateau conditioned on metric `val_top_3_accuracy` which is not available. Available metrics are: loss,acc,categorical_accuracy,val_loss,val_acc,val_categorical_accuracy,lr\n"
     ]
    },
    {
     "name": "stdout",
     "output_type": "stream",
     "text": [
      "10/10 [==============================] - 1s 120ms/step - loss: 1.0887 - acc: 0.5800 - categorical_accuracy: 0.5800 - val_loss: 1.0724 - val_acc: 0.6600 - val_categorical_accuracy: 0.6600\n",
      "Epoch 55/100\n",
      " 9/10 [==========================>...] - ETA: 0s - loss: 1.0792 - acc: 0.5889 - categorical_accuracy: 0.5889"
     ]
    },
    {
     "name": "stderr",
     "output_type": "stream",
     "text": [
      "W1102 15:48:14.699023 139685467260736 callbacks.py:989] Can save best model only with val_top_3_accuracy available, skipping.\n",
      "W1102 15:48:14.702103 139685467260736 callbacks.py:1833] Reduce LR on plateau conditioned on metric `val_top_3_accuracy` which is not available. Available metrics are: loss,acc,categorical_accuracy,val_loss,val_acc,val_categorical_accuracy,lr\n"
     ]
    },
    {
     "name": "stdout",
     "output_type": "stream",
     "text": [
      "10/10 [==============================] - 1s 126ms/step - loss: 1.0796 - acc: 0.5800 - categorical_accuracy: 0.5800 - val_loss: 1.0670 - val_acc: 0.6600 - val_categorical_accuracy: 0.6600\n",
      "Epoch 56/100\n",
      " 9/10 [==========================>...] - ETA: 0s - loss: 1.0689 - acc: 0.6333 - categorical_accuracy: 0.6333"
     ]
    },
    {
     "name": "stderr",
     "output_type": "stream",
     "text": [
      "W1102 15:48:16.010692 139685467260736 callbacks.py:989] Can save best model only with val_top_3_accuracy available, skipping.\n",
      "W1102 15:48:16.013914 139685467260736 callbacks.py:1833] Reduce LR on plateau conditioned on metric `val_top_3_accuracy` which is not available. Available metrics are: loss,acc,categorical_accuracy,val_loss,val_acc,val_categorical_accuracy,lr\n"
     ]
    },
    {
     "name": "stdout",
     "output_type": "stream",
     "text": [
      "10/10 [==============================] - 1s 130ms/step - loss: 1.0734 - acc: 0.6100 - categorical_accuracy: 0.6100 - val_loss: 1.0645 - val_acc: 0.6600 - val_categorical_accuracy: 0.6600\n",
      "Epoch 57/100\n",
      " 9/10 [==========================>...] - ETA: 0s - loss: 1.0503 - acc: 0.6556 - categorical_accuracy: 0.6556"
     ]
    },
    {
     "name": "stderr",
     "output_type": "stream",
     "text": [
      "W1102 15:48:17.294521 139685467260736 callbacks.py:989] Can save best model only with val_top_3_accuracy available, skipping.\n",
      "W1102 15:48:17.296046 139685467260736 callbacks.py:1833] Reduce LR on plateau conditioned on metric `val_top_3_accuracy` which is not available. Available metrics are: loss,acc,categorical_accuracy,val_loss,val_acc,val_categorical_accuracy,lr\n"
     ]
    },
    {
     "name": "stdout",
     "output_type": "stream",
     "text": [
      "10/10 [==============================] - 1s 127ms/step - loss: 1.0520 - acc: 0.6500 - categorical_accuracy: 0.6500 - val_loss: 1.0526 - val_acc: 0.6700 - val_categorical_accuracy: 0.6700\n",
      "Epoch 58/100\n",
      " 9/10 [==========================>...] - ETA: 0s - loss: 1.0704 - acc: 0.6222 - categorical_accuracy: 0.6222"
     ]
    },
    {
     "name": "stderr",
     "output_type": "stream",
     "text": [
      "W1102 15:48:18.509845 139685467260736 callbacks.py:989] Can save best model only with val_top_3_accuracy available, skipping.\n",
      "W1102 15:48:18.511193 139685467260736 callbacks.py:1833] Reduce LR on plateau conditioned on metric `val_top_3_accuracy` which is not available. Available metrics are: loss,acc,categorical_accuracy,val_loss,val_acc,val_categorical_accuracy,lr\n"
     ]
    },
    {
     "name": "stdout",
     "output_type": "stream",
     "text": [
      "10/10 [==============================] - 1s 121ms/step - loss: 1.0732 - acc: 0.6000 - categorical_accuracy: 0.6000 - val_loss: 1.0425 - val_acc: 0.6700 - val_categorical_accuracy: 0.6700\n",
      "Epoch 59/100\n",
      " 9/10 [==========================>...] - ETA: 0s - loss: 1.0512 - acc: 0.6222 - categorical_accuracy: 0.6222"
     ]
    },
    {
     "name": "stderr",
     "output_type": "stream",
     "text": [
      "W1102 15:48:19.581718 139685467260736 callbacks.py:989] Can save best model only with val_top_3_accuracy available, skipping.\n",
      "W1102 15:48:19.583523 139685467260736 callbacks.py:1833] Reduce LR on plateau conditioned on metric `val_top_3_accuracy` which is not available. Available metrics are: loss,acc,categorical_accuracy,val_loss,val_acc,val_categorical_accuracy,lr\n"
     ]
    },
    {
     "name": "stdout",
     "output_type": "stream",
     "text": [
      "10/10 [==============================] - 1s 107ms/step - loss: 1.0519 - acc: 0.6200 - categorical_accuracy: 0.6200 - val_loss: 1.0296 - val_acc: 0.6700 - val_categorical_accuracy: 0.6700\n",
      "Epoch 60/100\n",
      " 9/10 [==========================>...] - ETA: 0s - loss: 1.0345 - acc: 0.6556 - categorical_accuracy: 0.6556"
     ]
    },
    {
     "name": "stderr",
     "output_type": "stream",
     "text": [
      "W1102 15:48:20.644389 139685467260736 callbacks.py:989] Can save best model only with val_top_3_accuracy available, skipping.\n",
      "W1102 15:48:20.645370 139685467260736 callbacks.py:1833] Reduce LR on plateau conditioned on metric `val_top_3_accuracy` which is not available. Available metrics are: loss,acc,categorical_accuracy,val_loss,val_acc,val_categorical_accuracy,lr\n"
     ]
    },
    {
     "name": "stdout",
     "output_type": "stream",
     "text": [
      "10/10 [==============================] - 1s 106ms/step - loss: 1.0414 - acc: 0.6500 - categorical_accuracy: 0.6500 - val_loss: 1.0269 - val_acc: 0.6800 - val_categorical_accuracy: 0.6800\n",
      "Epoch 61/100\n",
      " 9/10 [==========================>...] - ETA: 0s - loss: 1.0382 - acc: 0.6111 - categorical_accuracy: 0.6111"
     ]
    },
    {
     "name": "stderr",
     "output_type": "stream",
     "text": [
      "W1102 15:48:21.850542 139685467260736 callbacks.py:989] Can save best model only with val_top_3_accuracy available, skipping.\n",
      "W1102 15:48:21.852012 139685467260736 callbacks.py:1833] Reduce LR on plateau conditioned on metric `val_top_3_accuracy` which is not available. Available metrics are: loss,acc,categorical_accuracy,val_loss,val_acc,val_categorical_accuracy,lr\n"
     ]
    },
    {
     "name": "stdout",
     "output_type": "stream",
     "text": [
      "10/10 [==============================] - 1s 120ms/step - loss: 1.0496 - acc: 0.6000 - categorical_accuracy: 0.6000 - val_loss: 1.0210 - val_acc: 0.6800 - val_categorical_accuracy: 0.6800\n",
      "Epoch 62/100\n",
      " 9/10 [==========================>...] - ETA: 0s - loss: 1.0250 - acc: 0.6444 - categorical_accuracy: 0.6444"
     ]
    },
    {
     "name": "stderr",
     "output_type": "stream",
     "text": [
      "W1102 15:48:22.932086 139685467260736 callbacks.py:989] Can save best model only with val_top_3_accuracy available, skipping.\n",
      "W1102 15:48:22.933741 139685467260736 callbacks.py:1833] Reduce LR on plateau conditioned on metric `val_top_3_accuracy` which is not available. Available metrics are: loss,acc,categorical_accuracy,val_loss,val_acc,val_categorical_accuracy,lr\n"
     ]
    },
    {
     "name": "stdout",
     "output_type": "stream",
     "text": [
      "10/10 [==============================] - 1s 108ms/step - loss: 1.0212 - acc: 0.6500 - categorical_accuracy: 0.6500 - val_loss: 1.0161 - val_acc: 0.6800 - val_categorical_accuracy: 0.6800\n",
      "Epoch 63/100\n",
      " 9/10 [==========================>...] - ETA: 0s - loss: 1.0147 - acc: 0.6778 - categorical_accuracy: 0.6778"
     ]
    },
    {
     "name": "stderr",
     "output_type": "stream",
     "text": [
      "W1102 15:48:24.102366 139685467260736 callbacks.py:989] Can save best model only with val_top_3_accuracy available, skipping.\n",
      "W1102 15:48:24.105463 139685467260736 callbacks.py:1833] Reduce LR on plateau conditioned on metric `val_top_3_accuracy` which is not available. Available metrics are: loss,acc,categorical_accuracy,val_loss,val_acc,val_categorical_accuracy,lr\n"
     ]
    },
    {
     "name": "stdout",
     "output_type": "stream",
     "text": [
      "10/10 [==============================] - 1s 117ms/step - loss: 1.0173 - acc: 0.6700 - categorical_accuracy: 0.6700 - val_loss: 0.9949 - val_acc: 0.6900 - val_categorical_accuracy: 0.6900\n",
      "Epoch 64/100\n",
      " 9/10 [==========================>...] - ETA: 0s - loss: 1.0236 - acc: 0.6333 - categorical_accuracy: 0.6333"
     ]
    },
    {
     "ename": "KeyboardInterrupt",
     "evalue": "",
     "output_type": "error",
     "traceback": [
      "\u001b[0;31m---------------------------------------------------------------------------\u001b[0m",
      "\u001b[0;31mKeyboardInterrupt\u001b[0m                         Traceback (most recent call last)",
      "\u001b[0;32m<ipython-input-13-e9ecd267bfb5>\u001b[0m in \u001b[0;36m<module>\u001b[0;34m\u001b[0m\n\u001b[1;32m      6\u001b[0m     \u001b[0mepochs\u001b[0m \u001b[0;34m=\u001b[0m \u001b[0;36m100\u001b[0m\u001b[0;34m,\u001b[0m\u001b[0;34m\u001b[0m\u001b[0;34m\u001b[0m\u001b[0m\n\u001b[1;32m      7\u001b[0m     \u001b[0mverbose\u001b[0m \u001b[0;34m=\u001b[0m \u001b[0;36m1\u001b[0m\u001b[0;34m,\u001b[0m\u001b[0;34m\u001b[0m\u001b[0;34m\u001b[0m\u001b[0m\n\u001b[0;32m----> 8\u001b[0;31m     \u001b[0mcallbacks\u001b[0m \u001b[0;34m=\u001b[0m \u001b[0mcallbacks_list\u001b[0m\u001b[0;34m\u001b[0m\u001b[0;34m\u001b[0m\u001b[0m\n\u001b[0m\u001b[1;32m      9\u001b[0m )\n",
      "\u001b[0;32m~/anaconda3/lib/python3.7/site-packages/tensorflow/python/keras/engine/training.py\u001b[0m in \u001b[0;36mfit_generator\u001b[0;34m(self, generator, steps_per_epoch, epochs, verbose, callbacks, validation_data, validation_steps, validation_freq, class_weight, max_queue_size, workers, use_multiprocessing, shuffle, initial_epoch)\u001b[0m\n\u001b[1;32m   1431\u001b[0m         \u001b[0mshuffle\u001b[0m\u001b[0;34m=\u001b[0m\u001b[0mshuffle\u001b[0m\u001b[0;34m,\u001b[0m\u001b[0;34m\u001b[0m\u001b[0;34m\u001b[0m\u001b[0m\n\u001b[1;32m   1432\u001b[0m         \u001b[0minitial_epoch\u001b[0m\u001b[0;34m=\u001b[0m\u001b[0minitial_epoch\u001b[0m\u001b[0;34m,\u001b[0m\u001b[0;34m\u001b[0m\u001b[0;34m\u001b[0m\u001b[0m\n\u001b[0;32m-> 1433\u001b[0;31m         steps_name='steps_per_epoch')\n\u001b[0m\u001b[1;32m   1434\u001b[0m \u001b[0;34m\u001b[0m\u001b[0m\n\u001b[1;32m   1435\u001b[0m   def evaluate_generator(self,\n",
      "\u001b[0;32m~/anaconda3/lib/python3.7/site-packages/tensorflow/python/keras/engine/training_generator.py\u001b[0m in \u001b[0;36mmodel_iteration\u001b[0;34m(model, data, steps_per_epoch, epochs, verbose, callbacks, validation_data, validation_steps, validation_freq, class_weight, max_queue_size, workers, use_multiprocessing, shuffle, initial_epoch, mode, batch_size, steps_name, **kwargs)\u001b[0m\n\u001b[1;32m    320\u001b[0m           \u001b[0mverbose\u001b[0m\u001b[0;34m=\u001b[0m\u001b[0;36m0\u001b[0m\u001b[0;34m,\u001b[0m\u001b[0;34m\u001b[0m\u001b[0;34m\u001b[0m\u001b[0m\n\u001b[1;32m    321\u001b[0m           \u001b[0mmode\u001b[0m\u001b[0;34m=\u001b[0m\u001b[0mModeKeys\u001b[0m\u001b[0;34m.\u001b[0m\u001b[0mTEST\u001b[0m\u001b[0;34m,\u001b[0m\u001b[0;34m\u001b[0m\u001b[0;34m\u001b[0m\u001b[0m\n\u001b[0;32m--> 322\u001b[0;31m           steps_name='validation_steps')\n\u001b[0m\u001b[1;32m    323\u001b[0m \u001b[0;34m\u001b[0m\u001b[0m\n\u001b[1;32m    324\u001b[0m       \u001b[0;32mif\u001b[0m \u001b[0;32mnot\u001b[0m \u001b[0misinstance\u001b[0m\u001b[0;34m(\u001b[0m\u001b[0mval_results\u001b[0m\u001b[0;34m,\u001b[0m \u001b[0mlist\u001b[0m\u001b[0;34m)\u001b[0m\u001b[0;34m:\u001b[0m\u001b[0;34m\u001b[0m\u001b[0;34m\u001b[0m\u001b[0m\n",
      "\u001b[0;32m~/anaconda3/lib/python3.7/site-packages/tensorflow/python/keras/engine/training_generator.py\u001b[0m in \u001b[0;36mmodel_iteration\u001b[0;34m(model, data, steps_per_epoch, epochs, verbose, callbacks, validation_data, validation_steps, validation_freq, class_weight, max_queue_size, workers, use_multiprocessing, shuffle, initial_epoch, mode, batch_size, steps_name, **kwargs)\u001b[0m\n\u001b[1;32m    218\u001b[0m     \u001b[0mstep\u001b[0m \u001b[0;34m=\u001b[0m \u001b[0;36m0\u001b[0m\u001b[0;34m\u001b[0m\u001b[0;34m\u001b[0m\u001b[0m\n\u001b[1;32m    219\u001b[0m     \u001b[0;32mwhile\u001b[0m \u001b[0mstep\u001b[0m \u001b[0;34m<\u001b[0m \u001b[0mtarget_steps\u001b[0m\u001b[0;34m:\u001b[0m\u001b[0;34m\u001b[0m\u001b[0;34m\u001b[0m\u001b[0m\n\u001b[0;32m--> 220\u001b[0;31m       \u001b[0mbatch_data\u001b[0m \u001b[0;34m=\u001b[0m \u001b[0m_get_next_batch\u001b[0m\u001b[0;34m(\u001b[0m\u001b[0mgenerator\u001b[0m\u001b[0;34m,\u001b[0m \u001b[0mmode\u001b[0m\u001b[0;34m)\u001b[0m\u001b[0;34m\u001b[0m\u001b[0;34m\u001b[0m\u001b[0m\n\u001b[0m\u001b[1;32m    221\u001b[0m       \u001b[0;32mif\u001b[0m \u001b[0mbatch_data\u001b[0m \u001b[0;32mis\u001b[0m \u001b[0;32mNone\u001b[0m\u001b[0;34m:\u001b[0m\u001b[0;34m\u001b[0m\u001b[0;34m\u001b[0m\u001b[0m\n\u001b[1;32m    222\u001b[0m         \u001b[0;32mif\u001b[0m \u001b[0mis_dataset\u001b[0m\u001b[0;34m:\u001b[0m\u001b[0;34m\u001b[0m\u001b[0;34m\u001b[0m\u001b[0m\n",
      "\u001b[0;32m~/anaconda3/lib/python3.7/site-packages/tensorflow/python/keras/engine/training_generator.py\u001b[0m in \u001b[0;36m_get_next_batch\u001b[0;34m(generator, mode)\u001b[0m\n\u001b[1;32m    360\u001b[0m   \u001b[0;34m\"\"\"Retrieves the next batch of input data.\"\"\"\u001b[0m\u001b[0;34m\u001b[0m\u001b[0;34m\u001b[0m\u001b[0m\n\u001b[1;32m    361\u001b[0m   \u001b[0;32mtry\u001b[0m\u001b[0;34m:\u001b[0m\u001b[0;34m\u001b[0m\u001b[0;34m\u001b[0m\u001b[0m\n\u001b[0;32m--> 362\u001b[0;31m     \u001b[0mgenerator_output\u001b[0m \u001b[0;34m=\u001b[0m \u001b[0mnext\u001b[0m\u001b[0;34m(\u001b[0m\u001b[0mgenerator\u001b[0m\u001b[0;34m)\u001b[0m\u001b[0;34m\u001b[0m\u001b[0;34m\u001b[0m\u001b[0m\n\u001b[0m\u001b[1;32m    363\u001b[0m   \u001b[0;32mexcept\u001b[0m \u001b[0;34m(\u001b[0m\u001b[0mStopIteration\u001b[0m\u001b[0;34m,\u001b[0m \u001b[0merrors\u001b[0m\u001b[0;34m.\u001b[0m\u001b[0mOutOfRangeError\u001b[0m\u001b[0;34m)\u001b[0m\u001b[0;34m:\u001b[0m\u001b[0;34m\u001b[0m\u001b[0;34m\u001b[0m\u001b[0m\n\u001b[1;32m    364\u001b[0m     \u001b[0;32mreturn\u001b[0m \u001b[0;32mNone\u001b[0m\u001b[0;34m\u001b[0m\u001b[0;34m\u001b[0m\u001b[0m\n",
      "\u001b[0;32m~/anaconda3/lib/python3.7/site-packages/tensorflow/python/keras/utils/data_utils.py\u001b[0m in \u001b[0;36mget\u001b[0;34m(self)\u001b[0m\n\u001b[1;32m    777\u001b[0m     \u001b[0;32mtry\u001b[0m\u001b[0;34m:\u001b[0m\u001b[0;34m\u001b[0m\u001b[0;34m\u001b[0m\u001b[0m\n\u001b[1;32m    778\u001b[0m       \u001b[0;32mwhile\u001b[0m \u001b[0mself\u001b[0m\u001b[0;34m.\u001b[0m\u001b[0mis_running\u001b[0m\u001b[0;34m(\u001b[0m\u001b[0;34m)\u001b[0m\u001b[0;34m:\u001b[0m\u001b[0;34m\u001b[0m\u001b[0;34m\u001b[0m\u001b[0m\n\u001b[0;32m--> 779\u001b[0;31m         \u001b[0minputs\u001b[0m \u001b[0;34m=\u001b[0m \u001b[0mself\u001b[0m\u001b[0;34m.\u001b[0m\u001b[0mqueue\u001b[0m\u001b[0;34m.\u001b[0m\u001b[0mget\u001b[0m\u001b[0;34m(\u001b[0m\u001b[0mblock\u001b[0m\u001b[0;34m=\u001b[0m\u001b[0;32mTrue\u001b[0m\u001b[0;34m)\u001b[0m\u001b[0;34m.\u001b[0m\u001b[0mget\u001b[0m\u001b[0;34m(\u001b[0m\u001b[0;34m)\u001b[0m\u001b[0;34m\u001b[0m\u001b[0;34m\u001b[0m\u001b[0m\n\u001b[0m\u001b[1;32m    780\u001b[0m         \u001b[0mself\u001b[0m\u001b[0;34m.\u001b[0m\u001b[0mqueue\u001b[0m\u001b[0;34m.\u001b[0m\u001b[0mtask_done\u001b[0m\u001b[0;34m(\u001b[0m\u001b[0;34m)\u001b[0m\u001b[0;34m\u001b[0m\u001b[0;34m\u001b[0m\u001b[0m\n\u001b[1;32m    781\u001b[0m         \u001b[0;32mif\u001b[0m \u001b[0minputs\u001b[0m \u001b[0;32mis\u001b[0m \u001b[0;32mnot\u001b[0m \u001b[0;32mNone\u001b[0m\u001b[0;34m:\u001b[0m\u001b[0;34m\u001b[0m\u001b[0;34m\u001b[0m\u001b[0m\n",
      "\u001b[0;32m~/anaconda3/lib/python3.7/multiprocessing/pool.py\u001b[0m in \u001b[0;36mget\u001b[0;34m(self, timeout)\u001b[0m\n\u001b[1;32m    649\u001b[0m \u001b[0;34m\u001b[0m\u001b[0m\n\u001b[1;32m    650\u001b[0m     \u001b[0;32mdef\u001b[0m \u001b[0mget\u001b[0m\u001b[0;34m(\u001b[0m\u001b[0mself\u001b[0m\u001b[0;34m,\u001b[0m \u001b[0mtimeout\u001b[0m\u001b[0;34m=\u001b[0m\u001b[0;32mNone\u001b[0m\u001b[0;34m)\u001b[0m\u001b[0;34m:\u001b[0m\u001b[0;34m\u001b[0m\u001b[0;34m\u001b[0m\u001b[0m\n\u001b[0;32m--> 651\u001b[0;31m         \u001b[0mself\u001b[0m\u001b[0;34m.\u001b[0m\u001b[0mwait\u001b[0m\u001b[0;34m(\u001b[0m\u001b[0mtimeout\u001b[0m\u001b[0;34m)\u001b[0m\u001b[0;34m\u001b[0m\u001b[0;34m\u001b[0m\u001b[0m\n\u001b[0m\u001b[1;32m    652\u001b[0m         \u001b[0;32mif\u001b[0m \u001b[0;32mnot\u001b[0m \u001b[0mself\u001b[0m\u001b[0;34m.\u001b[0m\u001b[0mready\u001b[0m\u001b[0;34m(\u001b[0m\u001b[0;34m)\u001b[0m\u001b[0;34m:\u001b[0m\u001b[0;34m\u001b[0m\u001b[0;34m\u001b[0m\u001b[0m\n\u001b[1;32m    653\u001b[0m             \u001b[0;32mraise\u001b[0m \u001b[0mTimeoutError\u001b[0m\u001b[0;34m\u001b[0m\u001b[0;34m\u001b[0m\u001b[0m\n",
      "\u001b[0;32m~/anaconda3/lib/python3.7/multiprocessing/pool.py\u001b[0m in \u001b[0;36mwait\u001b[0;34m(self, timeout)\u001b[0m\n\u001b[1;32m    646\u001b[0m \u001b[0;34m\u001b[0m\u001b[0m\n\u001b[1;32m    647\u001b[0m     \u001b[0;32mdef\u001b[0m \u001b[0mwait\u001b[0m\u001b[0;34m(\u001b[0m\u001b[0mself\u001b[0m\u001b[0;34m,\u001b[0m \u001b[0mtimeout\u001b[0m\u001b[0;34m=\u001b[0m\u001b[0;32mNone\u001b[0m\u001b[0;34m)\u001b[0m\u001b[0;34m:\u001b[0m\u001b[0;34m\u001b[0m\u001b[0;34m\u001b[0m\u001b[0m\n\u001b[0;32m--> 648\u001b[0;31m         \u001b[0mself\u001b[0m\u001b[0;34m.\u001b[0m\u001b[0m_event\u001b[0m\u001b[0;34m.\u001b[0m\u001b[0mwait\u001b[0m\u001b[0;34m(\u001b[0m\u001b[0mtimeout\u001b[0m\u001b[0;34m)\u001b[0m\u001b[0;34m\u001b[0m\u001b[0;34m\u001b[0m\u001b[0m\n\u001b[0m\u001b[1;32m    649\u001b[0m \u001b[0;34m\u001b[0m\u001b[0m\n\u001b[1;32m    650\u001b[0m     \u001b[0;32mdef\u001b[0m \u001b[0mget\u001b[0m\u001b[0;34m(\u001b[0m\u001b[0mself\u001b[0m\u001b[0;34m,\u001b[0m \u001b[0mtimeout\u001b[0m\u001b[0;34m=\u001b[0m\u001b[0;32mNone\u001b[0m\u001b[0;34m)\u001b[0m\u001b[0;34m:\u001b[0m\u001b[0;34m\u001b[0m\u001b[0;34m\u001b[0m\u001b[0m\n",
      "\u001b[0;32m~/anaconda3/lib/python3.7/threading.py\u001b[0m in \u001b[0;36mwait\u001b[0;34m(self, timeout)\u001b[0m\n\u001b[1;32m    550\u001b[0m             \u001b[0msignaled\u001b[0m \u001b[0;34m=\u001b[0m \u001b[0mself\u001b[0m\u001b[0;34m.\u001b[0m\u001b[0m_flag\u001b[0m\u001b[0;34m\u001b[0m\u001b[0;34m\u001b[0m\u001b[0m\n\u001b[1;32m    551\u001b[0m             \u001b[0;32mif\u001b[0m \u001b[0;32mnot\u001b[0m \u001b[0msignaled\u001b[0m\u001b[0;34m:\u001b[0m\u001b[0;34m\u001b[0m\u001b[0;34m\u001b[0m\u001b[0m\n\u001b[0;32m--> 552\u001b[0;31m                 \u001b[0msignaled\u001b[0m \u001b[0;34m=\u001b[0m \u001b[0mself\u001b[0m\u001b[0;34m.\u001b[0m\u001b[0m_cond\u001b[0m\u001b[0;34m.\u001b[0m\u001b[0mwait\u001b[0m\u001b[0;34m(\u001b[0m\u001b[0mtimeout\u001b[0m\u001b[0;34m)\u001b[0m\u001b[0;34m\u001b[0m\u001b[0;34m\u001b[0m\u001b[0m\n\u001b[0m\u001b[1;32m    553\u001b[0m             \u001b[0;32mreturn\u001b[0m \u001b[0msignaled\u001b[0m\u001b[0;34m\u001b[0m\u001b[0;34m\u001b[0m\u001b[0m\n\u001b[1;32m    554\u001b[0m \u001b[0;34m\u001b[0m\u001b[0m\n",
      "\u001b[0;32m~/anaconda3/lib/python3.7/threading.py\u001b[0m in \u001b[0;36mwait\u001b[0;34m(self, timeout)\u001b[0m\n\u001b[1;32m    294\u001b[0m         \u001b[0;32mtry\u001b[0m\u001b[0;34m:\u001b[0m    \u001b[0;31m# restore state no matter what (e.g., KeyboardInterrupt)\u001b[0m\u001b[0;34m\u001b[0m\u001b[0;34m\u001b[0m\u001b[0m\n\u001b[1;32m    295\u001b[0m             \u001b[0;32mif\u001b[0m \u001b[0mtimeout\u001b[0m \u001b[0;32mis\u001b[0m \u001b[0;32mNone\u001b[0m\u001b[0;34m:\u001b[0m\u001b[0;34m\u001b[0m\u001b[0;34m\u001b[0m\u001b[0m\n\u001b[0;32m--> 296\u001b[0;31m                 \u001b[0mwaiter\u001b[0m\u001b[0;34m.\u001b[0m\u001b[0macquire\u001b[0m\u001b[0;34m(\u001b[0m\u001b[0;34m)\u001b[0m\u001b[0;34m\u001b[0m\u001b[0;34m\u001b[0m\u001b[0m\n\u001b[0m\u001b[1;32m    297\u001b[0m                 \u001b[0mgotit\u001b[0m \u001b[0;34m=\u001b[0m \u001b[0;32mTrue\u001b[0m\u001b[0;34m\u001b[0m\u001b[0;34m\u001b[0m\u001b[0m\n\u001b[1;32m    298\u001b[0m             \u001b[0;32melse\u001b[0m\u001b[0;34m:\u001b[0m\u001b[0;34m\u001b[0m\u001b[0;34m\u001b[0m\u001b[0m\n",
      "\u001b[0;31mKeyboardInterrupt\u001b[0m: "
     ]
    }
   ],
   "source": [
    "history = model.fit_generator(\n",
    "    training_batches,\n",
    "    steps_per_epoch = training_steps,\n",
    "    validation_data = training_batches,\n",
    "    validation_steps = training_steps,\n",
    "    epochs = 100,\n",
    "    verbose = 1,\n",
    "    callbacks = callbacks_list\n",
    ")"
   ]
  },
  {
   "cell_type": "code",
   "execution_count": null,
   "metadata": {},
   "outputs": [],
   "source": []
  }
 ],
 "metadata": {
  "kernelspec": {
   "display_name": "Python 3",
   "language": "python",
   "name": "python3"
  },
  "language_info": {
   "codemirror_mode": {
    "name": "ipython",
    "version": 3
   },
   "file_extension": ".py",
   "mimetype": "text/x-python",
   "name": "python",
   "nbconvert_exporter": "python",
   "pygments_lexer": "ipython3",
   "version": "3.7.3"
  }
 },
 "nbformat": 4,
 "nbformat_minor": 2
}
