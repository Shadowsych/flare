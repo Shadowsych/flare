{
 "cells": [
  {
   "cell_type": "markdown",
   "metadata": {
    "colab_type": "text",
    "id": "AUDec-Wcv6TC"
   },
   "source": [
    "# Abstract\n",
    "This is a convolutional neural network that measures population density from birds-eye view images. It takes-in an input image and then detects the population density into 4 outputs:\n",
    "- 0 people = Zero Density\n",
    "- 1 to 5 people = Low Density\n",
    "- 6 to 30 = Medium Density\n",
    "- 31 to infinity = High Density"
   ]
  },
  {
   "cell_type": "markdown",
   "metadata": {
    "colab_type": "text",
    "id": "W5OY4koRv6TF"
   },
   "source": [
    "# Defining Constants\n",
    "Let's define some constants to use in our neural network for later."
   ]
  },
  {
   "cell_type": "code",
   "execution_count": 1,
   "metadata": {
    "colab": {},
    "colab_type": "code",
    "id": "WZFhf5Nvv6TH"
   },
   "outputs": [],
   "source": [
    "# import numpy\n",
    "import numpy as np\n",
    "\n",
    "# set the random number generator of numpy\n",
    "from numpy.random import seed\n",
    "seed(1)"
   ]
  },
  {
   "cell_type": "code",
   "execution_count": 2,
   "metadata": {
    "colab": {},
    "colab_type": "code",
    "id": "Z4s14DdIv6TM"
   },
   "outputs": [],
   "source": [
    "# how aggressive will be the data augmentation / transformation\n",
    "transformation_ratio = .05"
   ]
  },
  {
   "cell_type": "code",
   "execution_count": 3,
   "metadata": {
    "colab": {},
    "colab_type": "code",
    "id": "2vC_J2K6v6TP"
   },
   "outputs": [],
   "source": [
    "# number of training and testing images\n",
    "num_training_samples = 100\n",
    "num_testing_samples = 60\n",
    "\n",
    "# number of images to process before the weights are updated: try 4, 8, 16, 32, etc. depending on the CPU/GPU memory capacity\n",
    "training_batch_size = 16\n",
    "testing_batch_size = 8\n",
    "\n",
    "# image's square dimension for the neural network (width x height)\n",
    "image_size = 224\n",
    "\n",
    "# steps is the number of images per epoch\n",
    "training_steps = np.ceil(num_training_samples / training_batch_size)\n",
    "testing_steps = np.ceil(num_testing_samples / testing_batch_size)"
   ]
  },
  {
   "cell_type": "markdown",
   "metadata": {
    "colab_type": "text",
    "id": "SqG-PwBdv6TS"
   },
   "source": [
    "# Pre-Processing Image Data\n",
    "Let's pre-process image data using Image Augmentation from Keras's ImageDataGenerator class.\n",
    "\n",
    "Image augmentation allows us to create many batches of the images, which create many more diverse set of the images. Some augmentations could be rotating, stretching, zooming, etc.\n",
    "\n",
    "This helps prevent overfitting because augmentation better diversifies the data set."
   ]
  },
  {
   "cell_type": "code",
   "execution_count": 4,
   "metadata": {
    "colab": {
     "base_uri": "https://localhost:8080/",
     "height": 63
    },
    "colab_type": "code",
    "executionInfo": {
     "elapsed": 2163,
     "status": "ok",
     "timestamp": 1572748119942,
     "user": {
      "displayName": "Pravat Bhusal",
      "photoUrl": "https://lh3.googleusercontent.com/a-/AAuE7mBV0xcMDntbddsRcz-kxhFW-NR0p5MHMbV4t9ElSw=s64",
      "userId": "14511535967724343411"
     },
     "user_tz": 360
    },
    "id": "80FZvug1v6TT",
    "outputId": "ad72d573-8fdc-4f82-a122-81374dbfc62c"
   },
   "outputs": [],
   "source": [
    "# import keras\n",
    "import tensorflow.keras as keras\n",
    "\n",
    "# seed the random number generator of tensorflow\n",
    "from tensorflow import set_random_seed\n",
    "set_random_seed(2)"
   ]
  },
  {
   "cell_type": "code",
   "execution_count": 5,
   "metadata": {
    "colab": {},
    "colab_type": "code",
    "id": "yvRk9KD8v6TW"
   },
   "outputs": [],
   "source": [
    "# import the keras image data augmentor\n",
    "from tensorflow.keras.preprocessing.image import ImageDataGenerator"
   ]
  },
  {
   "cell_type": "code",
   "execution_count": 6,
   "metadata": {
    "colab": {
     "base_uri": "https://localhost:8080/",
     "height": 34
    },
    "colab_type": "code",
    "executionInfo": {
     "elapsed": 2236,
     "status": "ok",
     "timestamp": 1572748120048,
     "user": {
      "displayName": "Pravat Bhusal",
      "photoUrl": "https://lh3.googleusercontent.com/a-/AAuE7mBV0xcMDntbddsRcz-kxhFW-NR0p5MHMbV4t9ElSw=s64",
      "userId": "14511535967724343411"
     },
     "user_tz": 360
    },
    "id": "MQ510TtVv6TZ",
    "outputId": "9a1b4b75-7bec-4c22-d7f1-9b7a10567b06"
   },
   "outputs": [
    {
     "name": "stdout",
     "output_type": "stream",
     "text": [
      "Found 100 images belonging to 4 classes.\n"
     ]
    }
   ],
   "source": [
    "# create a data generator for the training set\n",
    "training_batches = ImageDataGenerator(\n",
    "    rescale= 1.0 / 255,\n",
    "    rotation_range = transformation_ratio,\n",
    "    shear_range = transformation_ratio,\n",
    "    zoom_range = transformation_ratio,\n",
    "    cval = transformation_ratio,\n",
    "    horizontal_flip=True,\n",
    "    vertical_flip=True,\n",
    ").flow_from_directory(\n",
    "    \"images/training\",\n",
    "    target_size = (image_size, image_size),\n",
    "    batch_size = training_batch_size\n",
    ")"
   ]
  },
  {
   "cell_type": "code",
   "execution_count": 7,
   "metadata": {
    "colab": {
     "base_uri": "https://localhost:8080/",
     "height": 34
    },
    "colab_type": "code",
    "executionInfo": {
     "elapsed": 2226,
     "status": "ok",
     "timestamp": 1572748120049,
     "user": {
      "displayName": "Pravat Bhusal",
      "photoUrl": "https://lh3.googleusercontent.com/a-/AAuE7mBV0xcMDntbddsRcz-kxhFW-NR0p5MHMbV4t9ElSw=s64",
      "userId": "14511535967724343411"
     },
     "user_tz": 360
    },
    "id": "oe3qecSgv6Te",
    "outputId": "df66c37f-e8c1-45a0-e25f-18e6214f0209"
   },
   "outputs": [
    {
     "name": "stdout",
     "output_type": "stream",
     "text": [
      "Found 60 images belonging to 4 classes.\n"
     ]
    }
   ],
   "source": [
    "# create a data generator for the testing set using the built-in mobilenet functions\n",
    "testing_batches = ImageDataGenerator(\n",
    "    rescale = 1.0 / 255\n",
    ").flow_from_directory(\n",
    "    \"images/testing\",\n",
    "    target_size = (image_size, image_size),\n",
    "    batch_size = testing_batch_size\n",
    ")"
   ]
  },
  {
   "cell_type": "markdown",
   "metadata": {
    "colab_type": "text",
    "id": "MOYF3N3Zv6Th"
   },
   "source": [
    "# Convolutional Neural Network\n",
    "Let's create a convolutional neural network to classify the image based on the categories."
   ]
  },
  {
   "cell_type": "code",
   "execution_count": 8,
   "metadata": {
    "colab": {},
    "colab_type": "code",
    "id": "FXj1IU9tv6Ti"
   },
   "outputs": [],
   "source": [
    "# import the basic model class\n",
    "from tensorflow.keras.models import Model\n",
    "\n",
    "# import the xception model\n",
    "from tensorflow.keras.applications.vgg16 import VGG16\n",
    "\n",
    "# import layers\n",
    "from tensorflow.keras.layers import GlobalMaxPooling2D, Dropout, Dense"
   ]
  },
  {
   "cell_type": "code",
   "execution_count": 9,
   "metadata": {
    "colab": {
     "base_uri": "https://localhost:8080/",
     "height": 88
    },
    "colab_type": "code",
    "executionInfo": {
     "elapsed": 3598,
     "status": "ok",
     "timestamp": 1572748121523,
     "user": {
      "displayName": "Pravat Bhusal",
      "photoUrl": "https://lh3.googleusercontent.com/a-/AAuE7mBV0xcMDntbddsRcz-kxhFW-NR0p5MHMbV4t9ElSw=s64",
      "userId": "14511535967724343411"
     },
     "user_tz": 360
    },
    "id": "yC_g3x00v6Tm",
    "outputId": "80aff55c-7720-4ff7-e19d-1366ac57e508"
   },
   "outputs": [
    {
     "name": "stderr",
     "output_type": "stream",
     "text": [
      "WARNING: Logging before flag parsing goes to stderr.\n",
      "W1102 20:59:42.170357 140594645047104 deprecation.py:506] From /home/pravat/anaconda3/lib/python3.7/site-packages/tensorflow/python/ops/init_ops.py:1251: calling VarianceScaling.__init__ (from tensorflow.python.ops.init_ops) with dtype is deprecated and will be removed in a future version.\n",
      "Instructions for updating:\n",
      "Call initializer instance with the dtype argument instead of passing it to the constructor\n"
     ]
    },
    {
     "name": "stdout",
     "output_type": "stream",
     "text": [
      "Downloading data from https://github.com/fchollet/deep-learning-models/releases/download/v0.1/vgg16_weights_tf_dim_ordering_tf_kernels_notop.h5\n",
      "58892288/58889256 [==============================] - 13s 0us/step\n"
     ]
    }
   ],
   "source": [
    "# use the pre-tained VGG16 model\n",
    "base_model = VGG16(input_shape = (image_size, image_size, 3), weights = \"imagenet\", include_top = False)"
   ]
  },
  {
   "cell_type": "code",
   "execution_count": 10,
   "metadata": {
    "colab": {},
    "colab_type": "code",
    "id": "OW17-Ceiv6Tp"
   },
   "outputs": [],
   "source": [
    "# add a MaxPooling layer\n",
    "pool_layer = GlobalMaxPooling2D()(base_model.output)\n",
    "\n",
    "# add a Dropout layer to prevent overfitting\n",
    "dropout_layer = Dropout(rate=0.20)(pool_layer)\n",
    "\n",
    "# add the output layer to the neural network\n",
    "output_layer = Dense(units = 4, activation = \"softmax\")(dropout_layer)\n",
    "model = Model(base_model.input, output_layer)"
   ]
  },
  {
   "cell_type": "code",
   "execution_count": 11,
   "metadata": {
    "colab": {},
    "colab_type": "code",
    "id": "mQPVxalUv6Tu"
   },
   "outputs": [],
   "source": [
    "# do not train the layers from the base (original) Xception model\n",
    "for layer in base_model.layers:\n",
    "    layer.trainable = False"
   ]
  },
  {
   "cell_type": "code",
   "execution_count": 12,
   "metadata": {
    "colab": {},
    "colab_type": "code",
    "id": "YxPAcsTvv6Tx"
   },
   "outputs": [],
   "source": [
    "# compile the model using the nadam (stochastic Gradient Descent) optimizer\n",
    "model.compile(\n",
    "    optimizer=\"nadam\",\n",
    "    loss='categorical_crossentropy',\n",
    "    metrics=[\"accuracy\"]\n",
    ")"
   ]
  },
  {
   "cell_type": "markdown",
   "metadata": {
    "colab_type": "text",
    "id": "HV4PhZ6Bv6T0"
   },
   "source": [
    "# Callbacks\n",
    "Let's define Callbacks to save the neural network whenever we reached the most accurate version of the model."
   ]
  },
  {
   "cell_type": "code",
   "execution_count": 13,
   "metadata": {
    "colab": {},
    "colab_type": "code",
    "id": "IBQmwJMav6T1"
   },
   "outputs": [],
   "source": [
    "# import the callbacks for the models to use to fit to the training set\n",
    "from tensorflow.keras.callbacks import ModelCheckpoint, EarlyStopping, ReduceLROnPlateau"
   ]
  },
  {
   "cell_type": "code",
   "execution_count": 14,
   "metadata": {
    "colab": {},
    "colab_type": "code",
    "id": "P_r8DlyDv6T4"
   },
   "outputs": [],
   "source": [
    "# declare a checkpoint to save the best version of the model\n",
    "model_file = \"model.h5\"\n",
    "checkpoint = ModelCheckpoint(model_file, monitor = \"val_acc\", save_best_only = True, verbose = 1, mode = \"max\")\n",
    "\n",
    "# early stop the model as the validation accuracy stagnates\n",
    "# early_stop = EarlyStopping(monitor = \"val_acc\", patience = 5, verbose = 0)\n",
    "\n",
    "# reduce the learning rate as the learning stagnates\n",
    "# reduce_lr = ReduceLROnPlateau(monitor=\"val_acc\", factor=0.5, patience=2, mode=\"max\", min_lr=0.00001)\n",
    "\n",
    "callbacks_list = [checkpoint]"
   ]
  },
  {
   "cell_type": "markdown",
   "metadata": {
    "colab_type": "text",
    "id": "sHmORs7mv6T7"
   },
   "source": [
    "# Fitting The Model\n",
    "Let's fit the model to the training set."
   ]
  },
  {
   "cell_type": "code",
   "execution_count": 15,
   "metadata": {
    "colab": {
     "base_uri": "https://localhost:8080/",
     "height": 1000
    },
    "colab_type": "code",
    "executionInfo": {
     "elapsed": 298632,
     "status": "ok",
     "timestamp": 1572748416595,
     "user": {
      "displayName": "Pravat Bhusal",
      "photoUrl": "https://lh3.googleusercontent.com/a-/AAuE7mBV0xcMDntbddsRcz-kxhFW-NR0p5MHMbV4t9ElSw=s64",
      "userId": "14511535967724343411"
     },
     "user_tz": 360
    },
    "id": "6Vh1gm1uv6T8",
    "outputId": "e860a2c3-005f-4601-8ba7-dd4a3d7ac4e1"
   },
   "outputs": [
    {
     "name": "stdout",
     "output_type": "stream",
     "text": [
      "Epoch 1/100\n",
      "6/7 [========================>.....] - ETA: 1s - loss: 1.5897 - acc: 0.2917\n",
      "Epoch 00001: val_acc improved from -inf to 0.33333, saving model to model.h5\n",
      "7/7 [==============================] - 21s 3s/step - loss: 1.5017 - acc: 0.3100 - val_loss: 1.3666 - val_acc: 0.3333\n",
      "Epoch 2/100\n",
      "6/7 [========================>.....] - ETA: 1s - loss: 1.4765 - acc: 0.3690\n",
      "Epoch 00002: val_acc improved from 0.33333 to 0.38333, saving model to model.h5\n",
      "7/7 [==============================] - 19s 3s/step - loss: 1.4528 - acc: 0.3600 - val_loss: 1.2963 - val_acc: 0.3833\n",
      "Epoch 3/100\n",
      "6/7 [========================>.....] - ETA: 1s - loss: 1.3061 - acc: 0.4762\n",
      "Epoch 00003: val_acc improved from 0.38333 to 0.41667, saving model to model.h5\n",
      "7/7 [==============================] - 19s 3s/step - loss: 1.2761 - acc: 0.4800 - val_loss: 1.2547 - val_acc: 0.4167\n",
      "Epoch 4/100\n",
      "6/7 [========================>.....] - ETA: 1s - loss: 1.2317 - acc: 0.4405\n",
      "Epoch 00004: val_acc improved from 0.41667 to 0.45000, saving model to model.h5\n",
      "7/7 [==============================] - 19s 3s/step - loss: 1.2515 - acc: 0.4500 - val_loss: 1.2184 - val_acc: 0.4500\n",
      "Epoch 5/100\n",
      "6/7 [========================>.....] - ETA: 1s - loss: 1.2351 - acc: 0.4048\n",
      "Epoch 00005: val_acc improved from 0.45000 to 0.46667, saving model to model.h5\n",
      "7/7 [==============================] - 20s 3s/step - loss: 1.2100 - acc: 0.4300 - val_loss: 1.1748 - val_acc: 0.4667\n",
      "Epoch 6/100\n",
      "6/7 [========================>.....] - ETA: 1s - loss: 1.1942 - acc: 0.4762\n",
      "Epoch 00006: val_acc improved from 0.46667 to 0.55000, saving model to model.h5\n",
      "7/7 [==============================] - 19s 3s/step - loss: 1.1966 - acc: 0.4500 - val_loss: 1.0923 - val_acc: 0.5500\n",
      "Epoch 7/100\n",
      "6/7 [========================>.....] - ETA: 1s - loss: 1.0416 - acc: 0.5952\n",
      "Epoch 00007: val_acc improved from 0.55000 to 0.58333, saving model to model.h5\n",
      "7/7 [==============================] - 20s 3s/step - loss: 1.0395 - acc: 0.5600 - val_loss: 1.0848 - val_acc: 0.5833\n",
      "Epoch 8/100\n",
      "6/7 [========================>.....] - ETA: 1s - loss: 1.0178 - acc: 0.5714\n",
      "Epoch 00008: val_acc improved from 0.58333 to 0.61667, saving model to model.h5\n",
      "7/7 [==============================] - 20s 3s/step - loss: 1.0256 - acc: 0.5700 - val_loss: 1.0880 - val_acc: 0.6167\n",
      "Epoch 9/100\n",
      "6/7 [========================>.....] - ETA: 1s - loss: 1.0005 - acc: 0.5476\n",
      "Epoch 00009: val_acc did not improve from 0.61667\n",
      "7/7 [==============================] - 19s 3s/step - loss: 0.9906 - acc: 0.5500 - val_loss: 1.0584 - val_acc: 0.6000\n",
      "Epoch 10/100\n",
      "6/7 [========================>.....] - ETA: 1s - loss: 0.9954 - acc: 0.6548\n",
      "Epoch 00010: val_acc did not improve from 0.61667\n",
      "7/7 [==============================] - 19s 3s/step - loss: 0.9899 - acc: 0.6600 - val_loss: 1.0668 - val_acc: 0.5667\n",
      "Epoch 11/100\n",
      "6/7 [========================>.....] - ETA: 1s - loss: 0.7771 - acc: 0.6429\n",
      "Epoch 00011: val_acc did not improve from 0.61667\n",
      "7/7 [==============================] - 19s 3s/step - loss: 0.8093 - acc: 0.6500 - val_loss: 0.9978 - val_acc: 0.6000\n",
      "Epoch 12/100\n",
      "6/7 [========================>.....] - ETA: 1s - loss: 0.8035 - acc: 0.7024\n",
      "Epoch 00012: val_acc did not improve from 0.61667\n",
      "7/7 [==============================] - 20s 3s/step - loss: 0.7752 - acc: 0.7300 - val_loss: 1.0100 - val_acc: 0.6167\n",
      "Epoch 13/100\n",
      "6/7 [========================>.....] - ETA: 1s - loss: 0.7172 - acc: 0.7812\n",
      "Epoch 00013: val_acc did not improve from 0.61667\n",
      "7/7 [==============================] - 20s 3s/step - loss: 0.7799 - acc: 0.7800 - val_loss: 0.9910 - val_acc: 0.6000\n",
      "Epoch 14/100\n",
      "6/7 [========================>.....] - ETA: 1s - loss: 0.7650 - acc: 0.7604\n",
      "Epoch 00014: val_acc did not improve from 0.61667\n",
      "7/7 [==============================] - 19s 3s/step - loss: 0.7438 - acc: 0.7700 - val_loss: 1.0151 - val_acc: 0.5833\n",
      "Epoch 15/100\n",
      "6/7 [========================>.....] - ETA: 1s - loss: 0.8227 - acc: 0.6667\n",
      "Epoch 00015: val_acc improved from 0.61667 to 0.63333, saving model to model.h5\n",
      "7/7 [==============================] - 20s 3s/step - loss: 0.8035 - acc: 0.6800 - val_loss: 0.9573 - val_acc: 0.6333\n",
      "Epoch 16/100\n",
      "6/7 [========================>.....] - ETA: 1s - loss: 0.7583 - acc: 0.7024\n",
      "Epoch 00016: val_acc improved from 0.63333 to 0.65000, saving model to model.h5\n",
      "7/7 [==============================] - 20s 3s/step - loss: 0.7281 - acc: 0.7200 - val_loss: 0.9656 - val_acc: 0.6500\n",
      "Epoch 17/100\n",
      "6/7 [========================>.....] - ETA: 1s - loss: 0.7542 - acc: 0.7381\n",
      "Epoch 00017: val_acc did not improve from 0.65000\n",
      "7/7 [==============================] - 20s 3s/step - loss: 0.7336 - acc: 0.7500 - val_loss: 0.9731 - val_acc: 0.6167\n",
      "Epoch 18/100\n",
      "6/7 [========================>.....] - ETA: 1s - loss: 0.6302 - acc: 0.7857\n",
      "Epoch 00018: val_acc did not improve from 0.65000\n",
      "7/7 [==============================] - 20s 3s/step - loss: 0.6570 - acc: 0.7900 - val_loss: 0.9573 - val_acc: 0.6333\n",
      "Epoch 19/100\n",
      "6/7 [========================>.....] - ETA: 1s - loss: 0.6320 - acc: 0.7857\n",
      "Epoch 00019: val_acc improved from 0.65000 to 0.66667, saving model to model.h5\n",
      "7/7 [==============================] - 20s 3s/step - loss: 0.6309 - acc: 0.8000 - val_loss: 0.9230 - val_acc: 0.6667\n",
      "Epoch 20/100\n",
      "6/7 [========================>.....] - ETA: 1s - loss: 0.7417 - acc: 0.7619\n",
      "Epoch 00020: val_acc did not improve from 0.66667\n",
      "7/7 [==============================] - 20s 3s/step - loss: 0.6956 - acc: 0.7800 - val_loss: 0.9210 - val_acc: 0.6000\n",
      "Epoch 21/100\n",
      "6/7 [========================>.....] - ETA: 1s - loss: 0.6520 - acc: 0.7857\n",
      "Epoch 00021: val_acc did not improve from 0.66667\n",
      "7/7 [==============================] - 20s 3s/step - loss: 0.6471 - acc: 0.7900 - val_loss: 0.9066 - val_acc: 0.6000\n",
      "Epoch 22/100\n",
      "6/7 [========================>.....] - ETA: 1s - loss: 0.6556 - acc: 0.7143\n",
      "Epoch 00022: val_acc did not improve from 0.66667\n",
      "7/7 [==============================] - 21s 3s/step - loss: 0.6386 - acc: 0.7400 - val_loss: 0.9262 - val_acc: 0.6333\n",
      "Epoch 23/100\n",
      "6/7 [========================>.....] - ETA: 1s - loss: 0.6719 - acc: 0.8214\n",
      "Epoch 00023: val_acc did not improve from 0.66667\n",
      "7/7 [==============================] - 22s 3s/step - loss: 0.6332 - acc: 0.8300 - val_loss: 0.9141 - val_acc: 0.6667\n",
      "Epoch 24/100\n",
      "6/7 [========================>.....] - ETA: 1s - loss: 0.5641 - acc: 0.8333\n",
      "Epoch 00024: val_acc did not improve from 0.66667\n",
      "7/7 [==============================] - 20s 3s/step - loss: 0.5455 - acc: 0.8400 - val_loss: 0.9091 - val_acc: 0.6500\n",
      "Epoch 25/100\n",
      "6/7 [========================>.....] - ETA: 1s - loss: 0.6046 - acc: 0.8690\n",
      "Epoch 00025: val_acc did not improve from 0.66667\n",
      "7/7 [==============================] - 20s 3s/step - loss: 0.6171 - acc: 0.8400 - val_loss: 0.9199 - val_acc: 0.6500\n",
      "Epoch 26/100\n",
      "6/7 [========================>.....] - ETA: 1s - loss: 0.5672 - acc: 0.8021\n",
      "Epoch 00026: val_acc did not improve from 0.66667\n",
      "7/7 [==============================] - 20s 3s/step - loss: 0.5552 - acc: 0.8100 - val_loss: 0.9245 - val_acc: 0.6500\n",
      "Epoch 27/100\n",
      "6/7 [========================>.....] - ETA: 1s - loss: 0.6049 - acc: 0.7738\n",
      "Epoch 00027: val_acc did not improve from 0.66667\n",
      "7/7 [==============================] - 20s 3s/step - loss: 0.5657 - acc: 0.8000 - val_loss: 0.9380 - val_acc: 0.6500\n",
      "Epoch 28/100\n",
      "6/7 [========================>.....] - ETA: 1s - loss: 0.5582 - acc: 0.8542\n",
      "Epoch 00028: val_acc did not improve from 0.66667\n",
      "7/7 [==============================] - 20s 3s/step - loss: 0.5273 - acc: 0.8600 - val_loss: 0.8874 - val_acc: 0.6500\n",
      "Epoch 29/100\n",
      "6/7 [========================>.....] - ETA: 1s - loss: 0.5330 - acc: 0.8571\n",
      "Epoch 00029: val_acc did not improve from 0.66667\n",
      "7/7 [==============================] - 20s 3s/step - loss: 0.5175 - acc: 0.8600 - val_loss: 0.9581 - val_acc: 0.6333\n",
      "Epoch 30/100\n",
      "6/7 [========================>.....] - ETA: 1s - loss: 0.5000 - acc: 0.8810\n",
      "Epoch 00030: val_acc did not improve from 0.66667\n",
      "7/7 [==============================] - 19s 3s/step - loss: 0.4806 - acc: 0.8900 - val_loss: 0.8602 - val_acc: 0.6500\n",
      "Epoch 31/100\n",
      "6/7 [========================>.....] - ETA: 1s - loss: 0.5474 - acc: 0.8214\n",
      "Epoch 00031: val_acc did not improve from 0.66667\n",
      "7/7 [==============================] - 19s 3s/step - loss: 0.5145 - acc: 0.8400 - val_loss: 0.9012 - val_acc: 0.6333\n",
      "Epoch 32/100\n",
      "6/7 [========================>.....] - ETA: 1s - loss: 0.5160 - acc: 0.8810\n",
      "Epoch 00032: val_acc did not improve from 0.66667\n",
      "7/7 [==============================] - 20s 3s/step - loss: 0.5272 - acc: 0.8600 - val_loss: 0.9058 - val_acc: 0.6500\n",
      "Epoch 33/100\n",
      "6/7 [========================>.....] - ETA: 1s - loss: 0.5353 - acc: 0.8452\n",
      "Epoch 00033: val_acc did not improve from 0.66667\n",
      "7/7 [==============================] - 20s 3s/step - loss: 0.5174 - acc: 0.8500 - val_loss: 0.8854 - val_acc: 0.6500\n",
      "Epoch 34/100\n",
      "6/7 [========================>.....] - ETA: 1s - loss: 0.4415 - acc: 0.8929\n",
      "Epoch 00034: val_acc did not improve from 0.66667\n",
      "7/7 [==============================] - 19s 3s/step - loss: 0.4867 - acc: 0.8600 - val_loss: 0.8674 - val_acc: 0.6667\n",
      "Epoch 35/100\n",
      "6/7 [========================>.....] - ETA: 1s - loss: 0.4746 - acc: 0.8929\n",
      "Epoch 00035: val_acc did not improve from 0.66667\n",
      "7/7 [==============================] - 20s 3s/step - loss: 0.4720 - acc: 0.8900 - val_loss: 0.9174 - val_acc: 0.6333\n",
      "Epoch 36/100\n",
      "6/7 [========================>.....] - ETA: 1s - loss: 0.4136 - acc: 0.9167\n",
      "Epoch 00036: val_acc did not improve from 0.66667\n",
      "7/7 [==============================] - 19s 3s/step - loss: 0.4342 - acc: 0.8900 - val_loss: 0.8696 - val_acc: 0.6333\n",
      "Epoch 37/100\n",
      "6/7 [========================>.....] - ETA: 1s - loss: 0.3817 - acc: 0.8810\n",
      "Epoch 00037: val_acc did not improve from 0.66667\n",
      "7/7 [==============================] - 19s 3s/step - loss: 0.4102 - acc: 0.8600 - val_loss: 0.8829 - val_acc: 0.6667\n",
      "Epoch 38/100\n",
      "6/7 [========================>.....] - ETA: 1s - loss: 0.4752 - acc: 0.8571\n",
      "Epoch 00038: val_acc did not improve from 0.66667\n",
      "7/7 [==============================] - 20s 3s/step - loss: 0.4411 - acc: 0.8600 - val_loss: 0.8971 - val_acc: 0.6667\n",
      "Epoch 39/100\n",
      "6/7 [========================>.....] - ETA: 1s - loss: 0.3988 - acc: 0.9167\n",
      "Epoch 00039: val_acc did not improve from 0.66667\n",
      "7/7 [==============================] - 19s 3s/step - loss: 0.4042 - acc: 0.9300 - val_loss: 0.9119 - val_acc: 0.6500\n",
      "Epoch 40/100\n",
      "6/7 [========================>.....] - ETA: 1s - loss: 0.4488 - acc: 0.8958\n",
      "Epoch 00040: val_acc did not improve from 0.66667\n",
      "7/7 [==============================] - 19s 3s/step - loss: 0.4596 - acc: 0.8900 - val_loss: 0.8397 - val_acc: 0.6667\n",
      "Epoch 41/100\n",
      "6/7 [========================>.....] - ETA: 1s - loss: 0.5089 - acc: 0.8333\n",
      "Epoch 00041: val_acc did not improve from 0.66667\n",
      "7/7 [==============================] - 19s 3s/step - loss: 0.5065 - acc: 0.8500 - val_loss: 0.8942 - val_acc: 0.6667\n",
      "Epoch 42/100\n",
      "6/7 [========================>.....] - ETA: 1s - loss: 0.4294 - acc: 0.8438\n",
      "Epoch 00042: val_acc did not improve from 0.66667\n",
      "7/7 [==============================] - 19s 3s/step - loss: 0.4655 - acc: 0.8400 - val_loss: 0.8344 - val_acc: 0.6333\n",
      "Epoch 43/100\n",
      "6/7 [========================>.....] - ETA: 1s - loss: 0.4188 - acc: 0.8571\n",
      "Epoch 00043: val_acc did not improve from 0.66667\n",
      "7/7 [==============================] - 21s 3s/step - loss: 0.4066 - acc: 0.8800 - val_loss: 0.8585 - val_acc: 0.6667\n",
      "Epoch 44/100\n",
      "6/7 [========================>.....] - ETA: 1s - loss: 0.4403 - acc: 0.8810\n",
      "Epoch 00044: val_acc did not improve from 0.66667\n",
      "7/7 [==============================] - 23s 3s/step - loss: 0.4416 - acc: 0.8800 - val_loss: 0.8882 - val_acc: 0.6667\n",
      "Epoch 45/100\n",
      "6/7 [========================>.....] - ETA: 2s - loss: 0.3589 - acc: 0.9048\n",
      "Epoch 00045: val_acc did not improve from 0.66667\n",
      "7/7 [==============================] - 24s 3s/step - loss: 0.3813 - acc: 0.9100 - val_loss: 0.8328 - val_acc: 0.6500\n",
      "Epoch 46/100\n",
      "6/7 [========================>.....] - ETA: 1s - loss: 0.3394 - acc: 0.9286\n",
      "Epoch 00046: val_acc did not improve from 0.66667\n",
      "7/7 [==============================] - 22s 3s/step - loss: 0.3647 - acc: 0.9200 - val_loss: 0.8732 - val_acc: 0.6667\n",
      "Epoch 47/100\n",
      "6/7 [========================>.....] - ETA: 1s - loss: 0.3879 - acc: 0.9271\n",
      "Epoch 00047: val_acc did not improve from 0.66667\n",
      "7/7 [==============================] - 21s 3s/step - loss: 0.3894 - acc: 0.9200 - val_loss: 0.8358 - val_acc: 0.6667\n",
      "Epoch 48/100\n",
      "6/7 [========================>.....] - ETA: 1s - loss: 0.3706 - acc: 0.9167\n",
      "Epoch 00048: val_acc did not improve from 0.66667\n",
      "7/7 [==============================] - 20s 3s/step - loss: 0.3955 - acc: 0.9100 - val_loss: 0.8288 - val_acc: 0.6667\n",
      "Epoch 49/100\n",
      "6/7 [========================>.....] - ETA: 1s - loss: 0.4467 - acc: 0.8452\n",
      "Epoch 00049: val_acc did not improve from 0.66667\n",
      "7/7 [==============================] - 22s 3s/step - loss: 0.4371 - acc: 0.8500 - val_loss: 0.8648 - val_acc: 0.6667\n",
      "Epoch 50/100\n",
      "6/7 [========================>.....] - ETA: 1s - loss: 0.2936 - acc: 0.9643\n",
      "Epoch 00050: val_acc did not improve from 0.66667\n",
      "7/7 [==============================] - 20s 3s/step - loss: 0.3308 - acc: 0.9500 - val_loss: 0.8370 - val_acc: 0.6500\n",
      "Epoch 51/100\n",
      "6/7 [========================>.....] - ETA: 1s - loss: 0.3923 - acc: 0.9167\n",
      "Epoch 00051: val_acc did not improve from 0.66667\n",
      "7/7 [==============================] - 20s 3s/step - loss: 0.3776 - acc: 0.9200 - val_loss: 0.8227 - val_acc: 0.6167\n",
      "Epoch 52/100\n",
      "6/7 [========================>.....] - ETA: 1s - loss: 0.3650 - acc: 0.9405\n",
      "Epoch 00052: val_acc did not improve from 0.66667\n",
      "7/7 [==============================] - 22s 3s/step - loss: 0.3505 - acc: 0.9400 - val_loss: 0.8734 - val_acc: 0.6333\n",
      "Epoch 53/100\n",
      "6/7 [========================>.....] - ETA: 1s - loss: 0.3115 - acc: 0.9286\n",
      "Epoch 00053: val_acc did not improve from 0.66667\n",
      "7/7 [==============================] - 21s 3s/step - loss: 0.3100 - acc: 0.9300 - val_loss: 0.8622 - val_acc: 0.6500\n",
      "Epoch 54/100\n",
      "6/7 [========================>.....] - ETA: 1s - loss: 0.3531 - acc: 0.9167\n",
      "Epoch 00054: val_acc did not improve from 0.66667\n",
      "7/7 [==============================] - 20s 3s/step - loss: 0.3454 - acc: 0.9300 - val_loss: 0.8413 - val_acc: 0.6667\n",
      "Epoch 55/100\n",
      "6/7 [========================>.....] - ETA: 1s - loss: 0.3724 - acc: 0.9048\n",
      "Epoch 00055: val_acc did not improve from 0.66667\n",
      "7/7 [==============================] - 20s 3s/step - loss: 0.3728 - acc: 0.9000 - val_loss: 0.8288 - val_acc: 0.6667\n",
      "Epoch 56/100\n",
      "6/7 [========================>.....] - ETA: 1s - loss: 0.2739 - acc: 0.9479\n",
      "Epoch 00056: val_acc did not improve from 0.66667\n",
      "7/7 [==============================] - 20s 3s/step - loss: 0.3363 - acc: 0.9300 - val_loss: 0.9109 - val_acc: 0.6500\n",
      "Epoch 57/100\n",
      "6/7 [========================>.....] - ETA: 1s - loss: 0.3886 - acc: 0.8810\n",
      "Epoch 00057: val_acc did not improve from 0.66667\n",
      "7/7 [==============================] - 19s 3s/step - loss: 0.3677 - acc: 0.8900 - val_loss: 0.8231 - val_acc: 0.6667\n",
      "Epoch 58/100\n",
      "6/7 [========================>.....] - ETA: 1s - loss: 0.3251 - acc: 0.9286\n",
      "Epoch 00058: val_acc did not improve from 0.66667\n",
      "7/7 [==============================] - 19s 3s/step - loss: 0.3318 - acc: 0.9200 - val_loss: 0.8822 - val_acc: 0.6500\n",
      "Epoch 59/100\n",
      "6/7 [========================>.....] - ETA: 1s - loss: 0.2901 - acc: 0.9286\n",
      "Epoch 00059: val_acc did not improve from 0.66667\n",
      "7/7 [==============================] - 19s 3s/step - loss: 0.3028 - acc: 0.9200 - val_loss: 0.8560 - val_acc: 0.6667\n",
      "Epoch 60/100\n",
      "6/7 [========================>.....] - ETA: 1s - loss: 0.2810 - acc: 0.9405\n",
      "Epoch 00060: val_acc did not improve from 0.66667\n",
      "7/7 [==============================] - 19s 3s/step - loss: 0.2881 - acc: 0.9400 - val_loss: 0.8672 - val_acc: 0.6667\n",
      "Epoch 61/100\n",
      "6/7 [========================>.....] - ETA: 1s - loss: 0.3696 - acc: 0.8690\n",
      "Epoch 00061: val_acc did not improve from 0.66667\n",
      "7/7 [==============================] - 20s 3s/step - loss: 0.3486 - acc: 0.8900 - val_loss: 0.8587 - val_acc: 0.6500\n",
      "Epoch 62/100\n",
      "6/7 [========================>.....] - ETA: 1s - loss: 0.2892 - acc: 0.9286\n",
      "Epoch 00062: val_acc did not improve from 0.66667\n",
      "7/7 [==============================] - 20s 3s/step - loss: 0.3073 - acc: 0.9300 - val_loss: 0.8520 - val_acc: 0.6500\n",
      "Epoch 63/100\n",
      "6/7 [========================>.....] - ETA: 1s - loss: 0.2849 - acc: 0.9524\n",
      "Epoch 00063: val_acc did not improve from 0.66667\n",
      "7/7 [==============================] - 19s 3s/step - loss: 0.2956 - acc: 0.9500 - val_loss: 0.8550 - val_acc: 0.6667\n",
      "Epoch 64/100\n",
      "6/7 [========================>.....] - ETA: 1s - loss: 0.2813 - acc: 0.9479\n",
      "Epoch 00064: val_acc did not improve from 0.66667\n",
      "7/7 [==============================] - 20s 3s/step - loss: 0.2740 - acc: 0.9500 - val_loss: 0.8464 - val_acc: 0.6667\n",
      "Epoch 65/100\n",
      "6/7 [========================>.....] - ETA: 1s - loss: 0.2466 - acc: 0.9405\n",
      "Epoch 00065: val_acc did not improve from 0.66667\n",
      "7/7 [==============================] - 21s 3s/step - loss: 0.2602 - acc: 0.9400 - val_loss: 0.8426 - val_acc: 0.6667\n",
      "Epoch 66/100\n",
      "6/7 [========================>.....] - ETA: 1s - loss: 0.3446 - acc: 0.9167\n",
      "Epoch 00066: val_acc did not improve from 0.66667\n",
      "7/7 [==============================] - 21s 3s/step - loss: 0.3239 - acc: 0.9200 - val_loss: 0.9023 - val_acc: 0.6667\n",
      "Epoch 67/100\n",
      "6/7 [========================>.....] - ETA: 1s - loss: 0.2682 - acc: 0.9524\n",
      "Epoch 00067: val_acc did not improve from 0.66667\n",
      "7/7 [==============================] - 20s 3s/step - loss: 0.2870 - acc: 0.9400 - val_loss: 0.8566 - val_acc: 0.6667\n",
      "Epoch 68/100\n",
      "6/7 [========================>.....] - ETA: 1s - loss: 0.3354 - acc: 0.8958\n",
      "Epoch 00068: val_acc did not improve from 0.66667\n",
      "7/7 [==============================] - 20s 3s/step - loss: 0.3305 - acc: 0.9000 - val_loss: 0.8637 - val_acc: 0.6333\n",
      "Epoch 69/100\n",
      "6/7 [========================>.....] - ETA: 1s - loss: 0.2340 - acc: 0.9643\n",
      "Epoch 00069: val_acc did not improve from 0.66667\n",
      "7/7 [==============================] - 20s 3s/step - loss: 0.2404 - acc: 0.9500 - val_loss: 0.8749 - val_acc: 0.6500\n",
      "Epoch 70/100\n",
      "6/7 [========================>.....] - ETA: 1s - loss: 0.2365 - acc: 0.9643\n",
      "Epoch 00070: val_acc did not improve from 0.66667\n",
      "7/7 [==============================] - 20s 3s/step - loss: 0.2425 - acc: 0.9500 - val_loss: 0.8626 - val_acc: 0.6667\n",
      "Epoch 71/100\n",
      "6/7 [========================>.....] - ETA: 1s - loss: 0.2466 - acc: 0.9405\n",
      "Epoch 00071: val_acc did not improve from 0.66667\n",
      "7/7 [==============================] - 20s 3s/step - loss: 0.2586 - acc: 0.9300 - val_loss: 0.8663 - val_acc: 0.6667\n",
      "Epoch 72/100\n",
      "6/7 [========================>.....] - ETA: 1s - loss: 0.3268 - acc: 0.9167\n",
      "Epoch 00072: val_acc did not improve from 0.66667\n",
      "7/7 [==============================] - 20s 3s/step - loss: 0.3178 - acc: 0.9100 - val_loss: 0.9102 - val_acc: 0.6500\n",
      "Epoch 73/100\n",
      "6/7 [========================>.....] - ETA: 1s - loss: 0.2622 - acc: 0.9405\n",
      "Epoch 00073: val_acc did not improve from 0.66667\n",
      "7/7 [==============================] - 22s 3s/step - loss: 0.2677 - acc: 0.9300 - val_loss: 0.8945 - val_acc: 0.6333\n",
      "Epoch 74/100\n",
      "6/7 [========================>.....] - ETA: 1s - loss: 0.2570 - acc: 0.9524\n",
      "Epoch 00074: val_acc did not improve from 0.66667\n",
      "7/7 [==============================] - 20s 3s/step - loss: 0.2647 - acc: 0.9600 - val_loss: 0.8328 - val_acc: 0.6333\n",
      "Epoch 75/100\n",
      "6/7 [========================>.....] - ETA: 1s - loss: 0.2311 - acc: 0.9643\n",
      "Epoch 00075: val_acc did not improve from 0.66667\n",
      "7/7 [==============================] - 22s 3s/step - loss: 0.2355 - acc: 0.9700 - val_loss: 0.8806 - val_acc: 0.6500\n",
      "Epoch 76/100\n",
      "6/7 [========================>.....] - ETA: 1s - loss: 0.3392 - acc: 0.9167\n",
      "Epoch 00076: val_acc did not improve from 0.66667\n",
      "7/7 [==============================] - 21s 3s/step - loss: 0.3161 - acc: 0.9200 - val_loss: 0.8765 - val_acc: 0.6500\n",
      "Epoch 77/100\n",
      "6/7 [========================>.....] - ETA: 1s - loss: 0.2688 - acc: 0.9405\n",
      "Epoch 00077: val_acc did not improve from 0.66667\n",
      "7/7 [==============================] - 20s 3s/step - loss: 0.2573 - acc: 0.9500 - val_loss: 0.9231 - val_acc: 0.6500\n",
      "Epoch 78/100\n",
      "6/7 [========================>.....] - ETA: 1s - loss: 0.2347 - acc: 0.9405\n",
      "Epoch 00078: val_acc did not improve from 0.66667\n",
      "7/7 [==============================] - 21s 3s/step - loss: 0.2281 - acc: 0.9500 - val_loss: 0.8517 - val_acc: 0.6500\n",
      "Epoch 79/100\n",
      "6/7 [========================>.....] - ETA: 1s - loss: 0.2168 - acc: 0.9762\n",
      "Epoch 00079: val_acc did not improve from 0.66667\n",
      "7/7 [==============================] - 20s 3s/step - loss: 0.2259 - acc: 0.9700 - val_loss: 0.8684 - val_acc: 0.6333\n",
      "Epoch 80/100\n",
      "6/7 [========================>.....] - ETA: 1s - loss: 0.3935 - acc: 0.9048\n",
      "Epoch 00080: val_acc did not improve from 0.66667\n",
      "7/7 [==============================] - 20s 3s/step - loss: 0.3599 - acc: 0.9200 - val_loss: 0.9393 - val_acc: 0.6500\n",
      "Epoch 81/100\n",
      "6/7 [========================>.....] - ETA: 1s - loss: 0.2329 - acc: 0.9286\n",
      "Epoch 00081: val_acc did not improve from 0.66667\n",
      "7/7 [==============================] - 20s 3s/step - loss: 0.2396 - acc: 0.9400 - val_loss: 0.9015 - val_acc: 0.6500\n",
      "Epoch 82/100\n",
      "6/7 [========================>.....] - ETA: 1s - loss: 0.2048 - acc: 0.9762\n",
      "Epoch 00082: val_acc did not improve from 0.66667\n",
      "7/7 [==============================] - 22s 3s/step - loss: 0.2612 - acc: 0.9300 - val_loss: 0.9055 - val_acc: 0.6500\n",
      "Epoch 83/100\n",
      "6/7 [========================>.....] - ETA: 1s - loss: 0.2112 - acc: 0.9881\n",
      "Epoch 00083: val_acc did not improve from 0.66667\n",
      "7/7 [==============================] - 21s 3s/step - loss: 0.2179 - acc: 0.9800 - val_loss: 0.9288 - val_acc: 0.6667\n",
      "Epoch 84/100\n",
      "6/7 [========================>.....] - ETA: 1s - loss: 0.2530 - acc: 0.9375\n",
      "Epoch 00084: val_acc did not improve from 0.66667\n",
      "7/7 [==============================] - 20s 3s/step - loss: 0.2289 - acc: 0.9400 - val_loss: 0.8772 - val_acc: 0.6500\n",
      "Epoch 85/100\n",
      "6/7 [========================>.....] - ETA: 1s - loss: 0.2537 - acc: 0.9524\n",
      "Epoch 00085: val_acc did not improve from 0.66667\n",
      "7/7 [==============================] - 23s 3s/step - loss: 0.2577 - acc: 0.9500 - val_loss: 0.8598 - val_acc: 0.6333\n",
      "Epoch 86/100\n",
      "6/7 [========================>.....] - ETA: 2s - loss: 0.2047 - acc: 0.9792\n",
      "Epoch 00086: val_acc did not improve from 0.66667\n",
      "7/7 [==============================] - 23s 3s/step - loss: 0.2039 - acc: 0.9800 - val_loss: 0.9770 - val_acc: 0.6500\n",
      "Epoch 87/100\n",
      "6/7 [========================>.....] - ETA: 1s - loss: 0.1957 - acc: 0.9643\n",
      "Epoch 00087: val_acc did not improve from 0.66667\n",
      "7/7 [==============================] - 20s 3s/step - loss: 0.2067 - acc: 0.9600 - val_loss: 0.9819 - val_acc: 0.6500\n",
      "Epoch 88/100\n",
      "6/7 [========================>.....] - ETA: 1s - loss: 0.2622 - acc: 0.8929\n",
      "Epoch 00088: val_acc did not improve from 0.66667\n",
      "7/7 [==============================] - 20s 3s/step - loss: 0.2653 - acc: 0.9000 - val_loss: 0.8374 - val_acc: 0.6500\n",
      "Epoch 89/100\n",
      "6/7 [========================>.....] - ETA: 1s - loss: 0.2519 - acc: 0.9286\n",
      "Epoch 00089: val_acc improved from 0.66667 to 0.68333, saving model to model.h5\n",
      "7/7 [==============================] - 20s 3s/step - loss: 0.2442 - acc: 0.9300 - val_loss: 0.9492 - val_acc: 0.6833\n",
      "Epoch 90/100\n",
      "6/7 [========================>.....] - ETA: 1s - loss: 0.2052 - acc: 0.9524\n",
      "Epoch 00090: val_acc did not improve from 0.68333\n",
      "7/7 [==============================] - 20s 3s/step - loss: 0.1964 - acc: 0.9600 - val_loss: 0.8771 - val_acc: 0.6667\n",
      "Epoch 91/100\n",
      "6/7 [========================>.....] - ETA: 1s - loss: 0.2689 - acc: 0.9167\n",
      "Epoch 00091: val_acc did not improve from 0.68333\n",
      "7/7 [==============================] - 20s 3s/step - loss: 0.2640 - acc: 0.9100 - val_loss: 0.9296 - val_acc: 0.6667\n",
      "Epoch 92/100\n",
      "6/7 [========================>.....] - ETA: 1s - loss: 0.1456 - acc: 1.0000\n",
      "Epoch 00092: val_acc did not improve from 0.68333\n",
      "7/7 [==============================] - 20s 3s/step - loss: 0.1530 - acc: 1.0000 - val_loss: 0.9172 - val_acc: 0.6500\n",
      "Epoch 93/100\n",
      "6/7 [========================>.....] - ETA: 1s - loss: 0.2724 - acc: 0.9286\n",
      "Epoch 00093: val_acc did not improve from 0.68333\n",
      "7/7 [==============================] - 20s 3s/step - loss: 0.2528 - acc: 0.9400 - val_loss: 0.9118 - val_acc: 0.6667\n",
      "Epoch 94/100\n",
      "6/7 [========================>.....] - ETA: 1s - loss: 0.1976 - acc: 0.9896\n",
      "Epoch 00094: val_acc did not improve from 0.68333\n",
      "7/7 [==============================] - 20s 3s/step - loss: 0.1891 - acc: 0.9900 - val_loss: 0.9553 - val_acc: 0.6667\n",
      "Epoch 95/100\n",
      "6/7 [========================>.....] - ETA: 1s - loss: 0.2149 - acc: 0.9688\n",
      "Epoch 00095: val_acc did not improve from 0.68333\n",
      "7/7 [==============================] - 20s 3s/step - loss: 0.2101 - acc: 0.9700 - val_loss: 0.9401 - val_acc: 0.6667\n",
      "Epoch 96/100\n",
      "6/7 [========================>.....] - ETA: 1s - loss: 0.1836 - acc: 0.9762\n",
      "Epoch 00096: val_acc did not improve from 0.68333\n",
      "7/7 [==============================] - 20s 3s/step - loss: 0.1879 - acc: 0.9600 - val_loss: 0.9270 - val_acc: 0.6500\n",
      "Epoch 97/100\n",
      "6/7 [========================>.....] - ETA: 1s - loss: 0.2260 - acc: 0.9643\n",
      "Epoch 00097: val_acc did not improve from 0.68333\n",
      "7/7 [==============================] - 20s 3s/step - loss: 0.2247 - acc: 0.9600 - val_loss: 0.8737 - val_acc: 0.6833\n",
      "Epoch 98/100\n",
      "6/7 [========================>.....] - ETA: 1s - loss: 0.1464 - acc: 0.9881\n",
      "Epoch 00098: val_acc did not improve from 0.68333\n",
      "7/7 [==============================] - 19s 3s/step - loss: 0.1705 - acc: 0.9700 - val_loss: 0.8924 - val_acc: 0.6667\n",
      "Epoch 99/100\n",
      "6/7 [========================>.....] - ETA: 1s - loss: 0.2198 - acc: 0.9762\n",
      "Epoch 00099: val_acc did not improve from 0.68333\n",
      "7/7 [==============================] - 20s 3s/step - loss: 0.2060 - acc: 0.9800 - val_loss: 0.8912 - val_acc: 0.6833\n",
      "Epoch 100/100\n",
      "6/7 [========================>.....] - ETA: 1s - loss: 0.1727 - acc: 0.9896\n",
      "Epoch 00100: val_acc did not improve from 0.68333\n",
      "7/7 [==============================] - 20s 3s/step - loss: 0.1832 - acc: 0.9900 - val_loss: 0.8679 - val_acc: 0.6500\n"
     ]
    }
   ],
   "source": [
    "classifier = model.fit_generator(\n",
    "    training_batches,\n",
    "    steps_per_epoch = training_steps,\n",
    "    validation_data = testing_batches,\n",
    "    validation_steps = testing_steps,\n",
    "    epochs = 100,\n",
    "    verbose = 1,\n",
    "    callbacks = callbacks_list\n",
    ")"
   ]
  },
  {
   "cell_type": "code",
   "execution_count": null,
   "metadata": {
    "colab": {},
    "colab_type": "code",
    "id": "nwXDF8-jv6UA"
   },
   "outputs": [],
   "source": []
  }
 ],
 "metadata": {
  "accelerator": "GPU",
  "colab": {
   "collapsed_sections": [],
   "name": "cnn.ipynb",
   "provenance": [],
   "toc_visible": true
  },
  "kernelspec": {
   "display_name": "Python 3",
   "language": "python",
   "name": "python3"
  },
  "language_info": {
   "codemirror_mode": {
    "name": "ipython",
    "version": 3
   },
   "file_extension": ".py",
   "mimetype": "text/x-python",
   "name": "python",
   "nbconvert_exporter": "python",
   "pygments_lexer": "ipython3",
   "version": "3.7.3"
  }
 },
 "nbformat": 4,
 "nbformat_minor": 2
}
